{
 "cells": [
  {
   "cell_type": "markdown",
   "metadata": {
    "id": "FUcGS9WsjDuM"
   },
   "source": [
    "# Evaluate Term Burstiness Scores on the Genia Corpus Data\n",
    "\n",
    "Authors: Samuel Sarria Hurtado and Paul Sheridan\n",
    "\n",
    "Last update: 2024-05-16\n",
    "\n",
    "Description: Evaluate the following word burstiness scores on the Genia corpus data\n",
    "- Chi-square\n",
    "- Church and Gale (CG)\n",
    "- Irvine and Callison-Burch (ICB)\n",
    "- Derivation of Proportions (DoP)\n",
    "- Residual ICF (RICF)\n",
    "\n",
    "Calculate P@k scores for each scoring function using the GENIA terms as ground truth."
   ]
  },
  {
   "cell_type": "markdown",
   "metadata": {
    "id": "91NU-MJcn4rq"
   },
   "source": [
    "## Imports"
   ]
  },
  {
   "cell_type": "code",
   "execution_count": 1,
   "metadata": {
    "colab": {
     "base_uri": "https://localhost:8080/"
    },
    "id": "XI8HNvL-lgvJ",
    "outputId": "78ae133d-1a47-4e95-e9e0-374586c801e8"
   },
   "outputs": [
    {
     "name": "stderr",
     "output_type": "stream",
     "text": [
      "[nltk_data] Error loading stopwords: <urlopen error [SSL:\n",
      "[nltk_data]     CERTIFICATE_VERIFY_FAILED] certificate verify failed:\n",
      "[nltk_data]     unable to get local issuer certificate (_ssl.c:1002)>\n"
     ]
    }
   ],
   "source": [
    "# Add path to Python function files to system path\n",
    "import sys\n",
    "import json\n",
    "import pandas as pd\n",
    "imports_path = '../0-base-functions/'\n",
    "sys.path.append(imports_path)\n",
    "import word_stats\n",
    "from sklearn.feature_extraction.text import CountVectorizer\n",
    "import numpy as np\n",
    "import scipy\n",
    "import nltk\n",
    "nltk.download('stopwords')\n",
    "from nltk.corpus import stopwords\n",
    "from io import StringIO\n",
    "from numpy import nan"
   ]
  },
  {
   "cell_type": "markdown",
   "metadata": {
    "id": "ADCYDIp4xqU4"
   },
   "source": [
    "## Read in Data"
   ]
  },
  {
   "cell_type": "code",
   "execution_count": 2,
   "metadata": {},
   "outputs": [],
   "source": [
    "np.random.seed(641369)"
   ]
  },
  {
   "cell_type": "code",
   "execution_count": 3,
   "metadata": {
    "id": "iE_1xCV52z4V"
   },
   "outputs": [],
   "source": [
    "# load the genia corpus, the genia keywords, the keybert rankings, and all the different lists of stopwords.\n",
    "json_genia_path = '../0-data-preprocessed/GENIAcorpus3.02-preprocessed.json'\n",
    "\n",
    "with open(json_genia_path, \"r\") as j:\n",
    "  genia = json.loads(j.read())\n",
    "\n",
    "keyword_genia_path = '../0-data-preprocessed/GENIAcorpus3.02-keywords.tsv'\n",
    "\n",
    "with open(keyword_genia_path, \"r\") as c:\n",
    "  key_words = pd.read_csv(c, sep='\\t')\n",
    "all_genia_words = key_words.lex.to_numpy()\n",
    "\n",
    "terrier_path = '../0-data-raw/terrier-stopwords.txt'\n",
    "\n",
    "terrier_stopwords = np.loadtxt(terrier_path, dtype=str)\n",
    "\n",
    "myisam_path = '../0-data-raw/myisam-stopwords.txt'\n",
    "\n",
    "with open(myisam_path, 'r') as t:\n",
    "  myisam_txt = StringIO(t.read() + '  NA  NA')\n",
    "\n",
    "myisam_stopwords = np.loadtxt(myisam_txt, dtype=str)\n",
    "myisam_stopwords = np.reshape(myisam_stopwords, (545, ))\n",
    "nas = np.where(myisam_stopwords == 'NA')[0]\n",
    "myisam_stopwords = np.delete(myisam_stopwords, nas).tolist()"
   ]
  },
  {
   "cell_type": "markdown",
   "metadata": {
    "id": "FPsrW3ClAKBo"
   },
   "source": [
    "## Construct Vocabulary\n",
    "\n",
    "This is the vocabulary input for the count vectorizer below."
   ]
  },
  {
   "cell_type": "code",
   "execution_count": 4,
   "metadata": {
    "id": "85_RgkS4mBP3"
   },
   "outputs": [],
   "source": [
    "pre_vocab = []\n",
    "for i in range(len(genia)):\n",
    "  pre_vocab.append(genia[i].split())\n",
    "\n",
    "vocab = []\n",
    "for i in range(len(pre_vocab)):\n",
    "  for j in range(len(pre_vocab[i])):\n",
    "    vocab.append(pre_vocab[i][j])\n",
    "\n",
    "vocab = list(set(vocab))"
   ]
  },
  {
   "cell_type": "markdown",
   "metadata": {
    "id": "yarJ97FZJtLL"
   },
   "source": [
    "## Vectorize the GENIA Corpus Documents"
   ]
  },
  {
   "cell_type": "code",
   "execution_count": 5,
   "metadata": {
    "id": "XH6V7PadbTLx"
   },
   "outputs": [],
   "source": [
    "# Custom function so the Count vectorizer won't ignore any words\n",
    "def analyzer_custom(doc):\n",
    "  return doc.split()"
   ]
  },
  {
   "cell_type": "code",
   "execution_count": 6,
   "metadata": {
    "id": "qXdBHbts5WmB"
   },
   "outputs": [],
   "source": [
    "counter = CountVectorizer(lowercase=False, vocabulary=vocab, analyzer=analyzer_custom)\n",
    "collection = counter.transform(genia)"
   ]
  },
  {
   "cell_type": "code",
   "execution_count": 7,
   "metadata": {},
   "outputs": [
    {
     "name": "stdout",
     "output_type": "stream",
     "text": [
      "['128_bp_of_upstream_sequence_lex' 'HIV_enhancer_activity_lex'\n",
      " 'T_lymphotropic_virus_lex' ... 'B104_lex' 'cytokine_induction_lex'\n",
      " 'apocynin_lex']\n"
     ]
    }
   ],
   "source": [
    "print(counter.get_feature_names_out())"
   ]
  },
  {
   "cell_type": "markdown",
   "metadata": {
    "id": "nPmziX_0A5Kz"
   },
   "source": [
    "## Important Text Analysis Variables"
   ]
  },
  {
   "cell_type": "code",
   "execution_count": 8,
   "metadata": {
    "id": "nXvOPY8CqJlp"
   },
   "outputs": [],
   "source": [
    "m = len(counter.get_feature_names_out())\n",
    "d = collection.shape[0]\n",
    "N_i = word_stats.get_Ni(collection)\n",
    "N_j = word_stats.get_Nj(collection)\n",
    "N = word_stats.get_N(N_j)\n",
    "B_ij = word_stats.get_Bij(collection)\n",
    "B_i = word_stats.get_Bi(B_ij)\n",
    "B_j = word_stats.get_Bj(B_ij)\n",
    "DF = word_stats.get_DF(B_i, d)\n",
    "CF = word_stats.get_CF(N_i)\n",
    "nij_by_nj = word_stats.get_nij_by_nj(collection, N_j)\n",
    "thetas = np.array(range(1, max(N_i.A[0]) + 1))/N\n",
    "opt_thetas = word_stats.get_opt_thetas(N, m, d, N_i, N_j, B_i, thetas)"
   ]
  },
  {
   "cell_type": "markdown",
   "metadata": {
    "id": "Sjsyw1CNC4-P"
   },
   "source": [
    "## Important Term Burstiness Measures"
   ]
  },
  {
   "cell_type": "code",
   "execution_count": 9,
   "metadata": {
    "id": "9KG6Z2kBsF5z"
   },
   "outputs": [
    {
     "name": "stderr",
     "output_type": "stream",
     "text": [
      "/Users/pasheridan/Desktop/bursty-term-measure/genia/3-burstiness-evaluation/../0-base-functions/word_stats.py:209: RuntimeWarning: divide by zero encountered in log\n",
      "  return -np.log(chisq_values)\n"
     ]
    }
   ],
   "source": [
    "IDF = word_stats.get_IDF(DF)\n",
    "ICF = word_stats.get_ICF(CF)\n",
    "Chisq = word_stats.get_Chisq(collection)\n",
    "CG = word_stats.get_CG(N_i, B_i)\n",
    "ICB = word_stats.get_ICB(nij_by_nj, B_i)\n",
    "DoP = word_stats.get_DoP(collection, N_i, N_j, N)\n",
    "RICF = word_stats.get_RICF(opt_thetas, N, ICF)"
   ]
  },
  {
   "cell_type": "code",
   "execution_count": 12,
   "metadata": {},
   "outputs": [
    {
     "name": "stdout",
     "output_type": "stream",
     "text": [
      "[7.60090246 7.60090246 7.60090246 ... 7.60090246 4.23360663 7.60090246]\n",
      "['virus_infectivity_lex'\n",
      " 'vascular_cell_adhesion_molecule-1_(VCAM-1)_expression_lex' 'Pax-8_lex'\n",
      " ... 'Epstein-Barr_virus_immediate-early_antigen_lex'\n",
      " 'nuclear_protein_lex' 'stably_infected_CD4+_cell_lex']\n"
     ]
    }
   ],
   "source": [
    "# testing (deleted later)\n",
    "print(IDF.A[0])\n",
    "print(counter.get_feature_names_out())"
   ]
  },
  {
   "cell_type": "markdown",
   "metadata": {
    "id": "q33c1rWwD72X"
   },
   "source": [
    "## Compare Term Burstiness Measures"
   ]
  },
  {
   "cell_type": "markdown",
   "metadata": {
    "id": "zX1-IBAVbCic"
   },
   "source": [
    "### Preliminary Dataframes"
   ]
  },
  {
   "cell_type": "code",
   "execution_count": 10,
   "metadata": {
    "id": "VNAvUhBoeIqN"
   },
   "outputs": [],
   "source": [
    "dta = {'term': counter.get_feature_names_out(), 'IDF': IDF.A[0], 'ICF': ICF.A[0], 'Chi-sq': Chisq, 'CG': CG.A[0], 'ICB': ICB.A[0], 'DoP': DoP.A[0], 'RICF': RICF.A[0]}\n",
    "scores_df = pd.DataFrame(data=dta)"
   ]
  },
  {
   "cell_type": "code",
   "execution_count": 11,
   "metadata": {},
   "outputs": [
    {
     "name": "stdout",
     "output_type": "stream",
     "text": [
      "                                     term       IDF        ICF      Chi-sq  \\\n",
      "0                      effector_sites_lex  7.600902  12.800954    0.701595   \n",
      "1               insulin_gene_promoter_lex  7.600902  12.107806  311.074036   \n",
      "2                                  tester  7.600902  12.800954    0.701595   \n",
      "3               p95vav_overexpression_lex  7.600902  12.800954    0.701595   \n",
      "4                               prognosis  5.521461  10.498368   65.726451   \n",
      "...                                   ...       ...        ...         ...   \n",
      "40799        neuronal_differentiation_lex  7.600902  12.800954    0.701595   \n",
      "40800          35-kDa_(alpha)_subunit_lex  7.600902  12.800954    0.701595   \n",
      "40801  HSV-specific_CD4+_T-cell_clone_lex  7.600902  12.800954    0.701595   \n",
      "40802              DNA-mobility_shift_lex  7.600902  12.800954    0.701595   \n",
      "40803                     HLA-DRalpha_lex  7.600902  12.800954    0.701595   \n",
      "\n",
      "         CG      ICB       DoP      RICF  \n",
      "0      1.00  162.000  0.000447 -0.000251  \n",
      "1      2.00  424.000  0.000585  0.692896  \n",
      "2      1.00  184.000  0.000507 -0.000251  \n",
      "3      1.00  242.000  0.000667 -0.000251  \n",
      "4      1.25  265.125  0.004499  0.220966  \n",
      "...     ...      ...       ...       ...  \n",
      "40799  1.00  153.000  0.000422 -0.000251  \n",
      "40800  1.00  229.000  0.000632 -0.000251  \n",
      "40801  1.00  169.000  0.000466 -0.000251  \n",
      "40802  1.00  212.000  0.000585 -0.000251  \n",
      "40803  1.00  208.000  0.000574 -0.000251  \n",
      "\n",
      "[40804 rows x 8 columns]\n"
     ]
    }
   ],
   "source": [
    "print(scores_df)\n",
    "scores_df.to_csv('../3-main-results/bursty_scores.tsv', sep='\\t')"
   ]
  },
  {
   "cell_type": "code",
   "execution_count": 12,
   "metadata": {
    "id": "Zm9bSz7yrnW2"
   },
   "outputs": [],
   "source": [
    "sorted_indices = []\n",
    "cols = scores_df.columns.values.tolist()\n",
    "for col in cols:\n",
    "  if col == 'term':\n",
    "    sorted_indices.append(np.array(scores_df['term']))\n",
    "  else:\n",
    "    a = np.array(scores_df[[col]])\n",
    "    sorted_indices.append(len(a) - scipy.stats.rankdata(a, method='ordinal', nan_policy='omit').astype(int))\n",
    "\n",
    "sorted_indices = np.array(sorted_indices)\n",
    "m_t_pair = zip(cols, sorted_indices)\n",
    "measures_indices = dict(m_t_pair)\n",
    "measures_indices_df = pd.DataFrame(measures_indices)"
   ]
  },
  {
   "cell_type": "code",
   "execution_count": 13,
   "metadata": {
    "colab": {
     "base_uri": "https://localhost:8080/"
    },
    "id": "ibFNWGnwEdiF",
    "outputId": "b8ebc4d7-75fd-4100-969d-a150ff895296"
   },
   "outputs": [],
   "source": [
    "st_words = stopwords.words('english')\n",
    "all_stopwords = [st_words, terrier_stopwords, myisam_stopwords]\n",
    "lst_stopwords = []\n",
    "for i in range(len(all_stopwords)):\n",
    "  for j in range(len(all_stopwords[i])):\n",
    "    lst_stopwords.append(all_stopwords[i][j])\n",
    "\n",
    "lst_stopwords = set(lst_stopwords)\n",
    "vocab_st_words = list(set(vocab).intersection(set(lst_stopwords)))\n",
    "vocab_st_words_in = []\n",
    "for i in range(len(measures_indices_df['term'])):\n",
    "  if measures_indices_df['term'][i] in vocab_st_words:\n",
    "    vocab_st_words_in.append(i)\n",
    "\n",
    "vocab_st_words_in = np.array(vocab_st_words_in)\n",
    "\n",
    "table_of_stop_words = measures_indices_df[measures_indices_df['term'].isin(vocab_st_words)]"
   ]
  },
  {
   "cell_type": "markdown",
   "metadata": {
    "id": "0Xh2xKK_bJgf"
   },
   "source": [
    "### Statistical Analysis of Measures"
   ]
  },
  {
   "cell_type": "code",
   "execution_count": 14,
   "metadata": {
    "colab": {
     "base_uri": "https://localhost:8080/",
     "height": 206
    },
    "id": "lZP6-BpmYO0o",
    "outputId": "b988e7ff-6590-4249-c4ea-fddfc017aa77"
   },
   "outputs": [
    {
     "data": {
      "text/html": [
       "<div>\n",
       "<style scoped>\n",
       "    .dataframe tbody tr th:only-of-type {\n",
       "        vertical-align: middle;\n",
       "    }\n",
       "\n",
       "    .dataframe tbody tr th {\n",
       "        vertical-align: top;\n",
       "    }\n",
       "\n",
       "    .dataframe thead th {\n",
       "        text-align: right;\n",
       "    }\n",
       "</style>\n",
       "<table border=\"1\" class=\"dataframe\">\n",
       "  <thead>\n",
       "    <tr style=\"text-align: right;\">\n",
       "      <th></th>\n",
       "      <th>0.00</th>\n",
       "      <th>0.25</th>\n",
       "      <th>0.50</th>\n",
       "      <th>0.75</th>\n",
       "      <th>1.00</th>\n",
       "    </tr>\n",
       "  </thead>\n",
       "  <tbody>\n",
       "    <tr>\n",
       "      <th>IDF</th>\n",
       "      <td>691.0</td>\n",
       "      <td>37072.0</td>\n",
       "      <td>39692.0</td>\n",
       "      <td>40549.0</td>\n",
       "      <td>40803.0</td>\n",
       "    </tr>\n",
       "    <tr>\n",
       "      <th>ICF</th>\n",
       "      <td>626.0</td>\n",
       "      <td>35687.0</td>\n",
       "      <td>39494.0</td>\n",
       "      <td>40515.0</td>\n",
       "      <td>40803.0</td>\n",
       "    </tr>\n",
       "    <tr>\n",
       "      <th>Chi-sq</th>\n",
       "      <td>1282.0</td>\n",
       "      <td>8023.0</td>\n",
       "      <td>8796.0</td>\n",
       "      <td>39133.0</td>\n",
       "      <td>40802.0</td>\n",
       "    </tr>\n",
       "    <tr>\n",
       "      <th>CG</th>\n",
       "      <td>18.0</td>\n",
       "      <td>7750.0</td>\n",
       "      <td>8754.0</td>\n",
       "      <td>24023.0</td>\n",
       "      <td>40697.0</td>\n",
       "    </tr>\n",
       "    <tr>\n",
       "      <th>ICB</th>\n",
       "      <td>69.0</td>\n",
       "      <td>11310.0</td>\n",
       "      <td>16852.0</td>\n",
       "      <td>22435.0</td>\n",
       "      <td>40502.0</td>\n",
       "    </tr>\n",
       "    <tr>\n",
       "      <th>DoP</th>\n",
       "      <td>0.0</td>\n",
       "      <td>253.0</td>\n",
       "      <td>1111.0</td>\n",
       "      <td>3719.0</td>\n",
       "      <td>40487.0</td>\n",
       "    </tr>\n",
       "    <tr>\n",
       "      <th>RICF</th>\n",
       "      <td>2093.0</td>\n",
       "      <td>8122.0</td>\n",
       "      <td>8810.0</td>\n",
       "      <td>39487.0</td>\n",
       "      <td>40802.0</td>\n",
       "    </tr>\n",
       "  </tbody>\n",
       "</table>\n",
       "</div>"
      ],
      "text/plain": [
       "          0.00     0.25     0.50     0.75     1.00\n",
       "IDF      691.0  37072.0  39692.0  40549.0  40803.0\n",
       "ICF      626.0  35687.0  39494.0  40515.0  40803.0\n",
       "Chi-sq  1282.0   8023.0   8796.0  39133.0  40802.0\n",
       "CG        18.0   7750.0   8754.0  24023.0  40697.0\n",
       "ICB       69.0  11310.0  16852.0  22435.0  40502.0\n",
       "DoP        0.0    253.0   1111.0   3719.0  40487.0\n",
       "RICF    2093.0   8122.0   8810.0  39487.0  40802.0"
      ]
     },
     "metadata": {},
     "output_type": "display_data"
    }
   ],
   "source": [
    "# Each measure has a unique ranking for a word in the corpus. The smaller the ranking\n",
    "# the higher the burstiness. These are the quartiles of the rankings for all measures.\n",
    "quantiles = []\n",
    "for col in cols:\n",
    "  if col == 'term': continue\n",
    "  quantiles.append(table_of_stop_words[col].quantile([0, 0.25, 0.5, 0.75, 1]))\n",
    "\n",
    "quantiles_df = pd.DataFrame(quantiles)\n",
    "display(quantiles_df)"
   ]
  },
  {
   "cell_type": "code",
   "execution_count": 15,
   "metadata": {
    "id": "HAzT-nUv8luu"
   },
   "outputs": [],
   "source": [
    "# This cell writes the previous pandas dataframe as a CSV (uncomment to write)\n",
    "quantiles_df.to_csv('../3-main-results/measures_quartiles.csv')"
   ]
  },
  {
   "cell_type": "code",
   "execution_count": 16,
   "metadata": {
    "id": "6vU24_4n4Mh9"
   },
   "outputs": [],
   "source": [
    "sorted_terms = []\n",
    "measures = cols[1:]\n",
    "for measure in measures:\n",
    "  sorted_terms.append(np.array(scores_df[['term', measure]].sort_values(measure, ascending=False)['term']))\n",
    "\n",
    "sorted_terms = np.array(sorted_terms)\n",
    "measure_term_pair = zip(measures, sorted_terms)\n",
    "sorted_measures = dict(measure_term_pair)"
   ]
  },
  {
   "cell_type": "code",
   "execution_count": 17,
   "metadata": {
    "id": "uMRN0rh77pAX"
   },
   "outputs": [],
   "source": [
    "def top_k(dct, k):\n",
    "  keys = dct.keys()\n",
    "  values = []\n",
    "  for key in keys:\n",
    "    values.append(dct[key][:k])\n",
    "  keys_values_pair = zip(keys, values)\n",
    "  return dict(keys_values_pair)"
   ]
  },
  {
   "cell_type": "code",
   "execution_count": 18,
   "metadata": {
    "colab": {
     "base_uri": "https://localhost:8080/",
     "height": 363
    },
    "id": "gJjA9fovQlFH",
    "outputId": "b07d35b0-8227-4c8a-8370-3720b6aebd23"
   },
   "outputs": [
    {
     "data": {
      "text/html": [
       "<div>\n",
       "<style scoped>\n",
       "    .dataframe tbody tr th:only-of-type {\n",
       "        vertical-align: middle;\n",
       "    }\n",
       "\n",
       "    .dataframe tbody tr th {\n",
       "        vertical-align: top;\n",
       "    }\n",
       "\n",
       "    .dataframe thead th {\n",
       "        text-align: right;\n",
       "    }\n",
       "</style>\n",
       "<table border=\"1\" class=\"dataframe\">\n",
       "  <thead>\n",
       "    <tr style=\"text-align: right;\">\n",
       "      <th></th>\n",
       "      <th>IDF</th>\n",
       "      <th>ICF</th>\n",
       "      <th>Chi-sq</th>\n",
       "      <th>CG</th>\n",
       "      <th>ICB</th>\n",
       "      <th>DoP</th>\n",
       "      <th>RICF</th>\n",
       "    </tr>\n",
       "  </thead>\n",
       "  <tbody>\n",
       "    <tr>\n",
       "      <th>0</th>\n",
       "      <td>effector_sites_lex</td>\n",
       "      <td>effector_sites_lex</td>\n",
       "      <td>FN_lex</td>\n",
       "      <td>Bcl-6_lex</td>\n",
       "      <td>Bcl-6_lex</td>\n",
       "      <td>of</td>\n",
       "      <td>Bcl-6_lex</td>\n",
       "    </tr>\n",
       "    <tr>\n",
       "      <th>1</th>\n",
       "      <td>IL-2-dependent_T_cell_proliferation_lex</td>\n",
       "      <td>early_inflammatory_response_lex</td>\n",
       "      <td>ICER_lex</td>\n",
       "      <td>v-erbA_lex</td>\n",
       "      <td>TCRzeta_lex</td>\n",
       "      <td>the</td>\n",
       "      <td>v-erbA_lex</td>\n",
       "    </tr>\n",
       "    <tr>\n",
       "      <th>2</th>\n",
       "      <td>total_cell_lysate_lex</td>\n",
       "      <td>NF-muNR_binding_lex</td>\n",
       "      <td>Egr-2_lex</td>\n",
       "      <td>SMX_lex</td>\n",
       "      <td>ML-9_lex</td>\n",
       "      <td>in</td>\n",
       "      <td>SMX_lex</td>\n",
       "    </tr>\n",
       "    <tr>\n",
       "      <th>3</th>\n",
       "      <td>ligand-inducible_phosphorylation_lex</td>\n",
       "      <td>transdimer</td>\n",
       "      <td>supine</td>\n",
       "      <td>SHP1_lex</td>\n",
       "      <td>AITL_lex</td>\n",
       "      <td>and</td>\n",
       "      <td>ML-9_lex</td>\n",
       "    </tr>\n",
       "    <tr>\n",
       "      <th>4</th>\n",
       "      <td>HS1_lex</td>\n",
       "      <td>major_mRNA_transcript_lex</td>\n",
       "      <td>LEF1/BCF1_lex</td>\n",
       "      <td>ML-9_lex</td>\n",
       "      <td>SHP1_lex</td>\n",
       "      <td>to</td>\n",
       "      <td>SHP1_lex</td>\n",
       "    </tr>\n",
       "    <tr>\n",
       "      <th>5</th>\n",
       "      <td>microg106</td>\n",
       "      <td>CD40_activation_lex</td>\n",
       "      <td>MNP-2_lex</td>\n",
       "      <td>beta-casein_lex</td>\n",
       "      <td>beta-casein_lex</td>\n",
       "      <td>a</td>\n",
       "      <td>beta-casein_lex</td>\n",
       "    </tr>\n",
       "    <tr>\n",
       "      <th>6</th>\n",
       "      <td>CD4-expressing_T_lymphocyte_lex</td>\n",
       "      <td>pp38_lex</td>\n",
       "      <td>RS_cell_lex</td>\n",
       "      <td>EBNA-2_lex</td>\n",
       "      <td>A-myb_lex</td>\n",
       "      <td>that</td>\n",
       "      <td>I_kappaB_lex</td>\n",
       "    </tr>\n",
       "    <tr>\n",
       "      <th>7</th>\n",
       "      <td>aminoacid_cys22-gly22_lex</td>\n",
       "      <td>functional_binding_site_lex</td>\n",
       "      <td>TCR_affinity_lex</td>\n",
       "      <td>I_kappaB_lex</td>\n",
       "      <td>I_kappaB_lex</td>\n",
       "      <td>by</td>\n",
       "      <td>p95vav_lex</td>\n",
       "    </tr>\n",
       "    <tr>\n",
       "      <th>8</th>\n",
       "      <td>hypertensives</td>\n",
       "      <td>noncytoxic_concentration_lex</td>\n",
       "      <td>Tax1_lex</td>\n",
       "      <td>DM_lex</td>\n",
       "      <td>SMX_lex</td>\n",
       "      <td>with</td>\n",
       "      <td>TCRzeta_lex</td>\n",
       "    </tr>\n",
       "    <tr>\n",
       "      <th>9</th>\n",
       "      <td>mammalian_histone_deacetylase_lex</td>\n",
       "      <td>Gal/ER_lex</td>\n",
       "      <td>peri-kappa_B_site_lex</td>\n",
       "      <td>p95vav_lex</td>\n",
       "      <td>Rap1_protein_lex</td>\n",
       "      <td>we</td>\n",
       "      <td>DM_lex</td>\n",
       "    </tr>\n",
       "  </tbody>\n",
       "</table>\n",
       "</div>"
      ],
      "text/plain": [
       "                                       IDF                              ICF  \\\n",
       "0                       effector_sites_lex               effector_sites_lex   \n",
       "1  IL-2-dependent_T_cell_proliferation_lex  early_inflammatory_response_lex   \n",
       "2                    total_cell_lysate_lex              NF-muNR_binding_lex   \n",
       "3     ligand-inducible_phosphorylation_lex                       transdimer   \n",
       "4                                  HS1_lex        major_mRNA_transcript_lex   \n",
       "5                                microg106              CD40_activation_lex   \n",
       "6          CD4-expressing_T_lymphocyte_lex                         pp38_lex   \n",
       "7                aminoacid_cys22-gly22_lex      functional_binding_site_lex   \n",
       "8                            hypertensives     noncytoxic_concentration_lex   \n",
       "9        mammalian_histone_deacetylase_lex                       Gal/ER_lex   \n",
       "\n",
       "                  Chi-sq               CG               ICB   DoP  \\\n",
       "0                 FN_lex        Bcl-6_lex         Bcl-6_lex    of   \n",
       "1               ICER_lex       v-erbA_lex       TCRzeta_lex   the   \n",
       "2              Egr-2_lex          SMX_lex          ML-9_lex    in   \n",
       "3                 supine         SHP1_lex          AITL_lex   and   \n",
       "4          LEF1/BCF1_lex         ML-9_lex          SHP1_lex    to   \n",
       "5              MNP-2_lex  beta-casein_lex   beta-casein_lex     a   \n",
       "6            RS_cell_lex       EBNA-2_lex         A-myb_lex  that   \n",
       "7       TCR_affinity_lex     I_kappaB_lex      I_kappaB_lex    by   \n",
       "8               Tax1_lex           DM_lex           SMX_lex  with   \n",
       "9  peri-kappa_B_site_lex       p95vav_lex  Rap1_protein_lex    we   \n",
       "\n",
       "              RICF  \n",
       "0        Bcl-6_lex  \n",
       "1       v-erbA_lex  \n",
       "2          SMX_lex  \n",
       "3         ML-9_lex  \n",
       "4         SHP1_lex  \n",
       "5  beta-casein_lex  \n",
       "6     I_kappaB_lex  \n",
       "7       p95vav_lex  \n",
       "8      TCRzeta_lex  \n",
       "9           DM_lex  "
      ]
     },
     "execution_count": 18,
     "metadata": {},
     "output_type": "execute_result"
    }
   ],
   "source": [
    "# These are the top 10 most bursty words as ranked by each measure\n",
    "top_10_terms = pd.DataFrame(top_k(sorted_measures, 10))\n",
    "top_10_terms"
   ]
  },
  {
   "cell_type": "code",
   "execution_count": 19,
   "metadata": {
    "id": "JVEUkKL08vCp"
   },
   "outputs": [],
   "source": [
    "# This cell writes the previous pandas dataframe as a CSV (uncomment to write)\n",
    "top_10_terms.to_csv('../3-main-results/top_10_terms.csv')"
   ]
  },
  {
   "cell_type": "code",
   "execution_count": 20,
   "metadata": {},
   "outputs": [],
   "source": [
    "# This cell writes the full dataframe as a CSV (uncomment to write)\n",
    "top_45000_terms = pd.DataFrame(top_k(sorted_measures, 45000))\n",
    "top_45000_terms.to_csv('../3-main-results/top_45000_terms.csv')"
   ]
  },
  {
   "cell_type": "code",
   "execution_count": 21,
   "metadata": {
    "colab": {
     "base_uri": "https://localhost:8080/"
    },
    "id": "cZqyY2mFCJb4",
    "outputId": "7464d204-9db2-4166-91f6-47c3ce179b09"
   },
   "outputs": [
    {
     "name": "stdout",
     "output_type": "stream",
     "text": [
      "amino_acid words:  10155 nucleotide words:  5574 multi_cell words:  1444 cell words:  4051 other words:  10560\n"
     ]
    }
   ],
   "source": [
    "amino_acid_sems = ['G#amino_acid_monomer', 'G#peptide', 'G#protein_N/A',\n",
    "              'G#protein_complex', 'G#protein_domain_or_region',\n",
    "              'G#protein_family_or_group', 'G#protein_molecule',\n",
    "              'G#protein_substructure', 'G#protein_subunit',\n",
    "              'G#other_organic_compound', 'G#organic', 'G#inorganic', 'G#atom',\n",
    "              'G#carbohydrate', 'G#lipid']\n",
    "nucleotide_sems = ['G#nucleotide', 'G#polynucleotide', 'G#DNA_N/A',\n",
    "        'G#DNA_domain_or_region', 'G#DNA_family_or_group', 'G#DNA_molecule',\n",
    "        'G#DNA_substructure', 'G#RNA_N/A', 'G#RNA_domain_or_region',\n",
    "        'G#RNA_family_or_group', 'G#RNA_molecule', 'G#RNA_substructure']\n",
    "multi_cell_sems = ['G#virus', 'G#mono_cell', 'G#multi_cell', 'G#body_part', 'G#tissue']\n",
    "cell_sems = ['G#cell_type', 'G#cell_component', 'G#cell_line',\n",
    "         'G#other_artificial_source']\n",
    "other_sems = ['G#other_name']\n",
    "\n",
    "sem = np.array(key_words['sem'])\n",
    "lex = np.array(key_words['lex'])\n",
    "lex_sem_dct = dict(zip(lex, sem))\n",
    "\n",
    "def get_color_words(lst_color):\n",
    "  words = []\n",
    "  for k, v in lex_sem_dct.items():\n",
    "    if v in lst_color:\n",
    "      words.append(k)\n",
    "  return words\n",
    "\n",
    "amino_acid = get_color_words(amino_acid_sems)\n",
    "nucleotide = get_color_words(nucleotide_sems)\n",
    "multi_cell = get_color_words(multi_cell_sems)\n",
    "cell = get_color_words(cell_sems)\n",
    "other = get_color_words(other_sems)\n",
    "\n",
    "print('amino_acid words: ', len(amino_acid), 'nucleotide words: ', len(nucleotide),\n",
    "      'multi_cell words: ', len(multi_cell), 'cell words: ', len(cell),\n",
    "      'other words: ', len(other))"
   ]
  },
  {
   "cell_type": "code",
   "execution_count": 22,
   "metadata": {
    "id": "EKqUt7r6IGNG"
   },
   "outputs": [],
   "source": [
    "def count_words(lst, imp_words):\n",
    "  counter = 0\n",
    "  for x in lst:\n",
    "    if x in imp_words:\n",
    "      counter += 1\n",
    "  return counter\n",
    "\n",
    "def create_p_k(lst_words):\n",
    "  measures = sorted_measures.keys()\n",
    "  counts = [[], [], [], [], [], [], [], [], [], []]\n",
    "  p_k_dct = dict(zip(measures, counts))\n",
    "  for measure in p_k_dct.keys():\n",
    "    for value in at_values:\n",
    "      p_k_dct[measure].append(count_words(top_k(sorted_measures, value)[measure], lst_words)/value)\n",
    "  result = pd.DataFrame(p_k_dct)\n",
    "  result.index = at_values\n",
    "  return result"
   ]
  },
  {
   "cell_type": "code",
   "execution_count": 23,
   "metadata": {
    "colab": {
     "base_uri": "https://localhost:8080/",
     "height": 1000
    },
    "id": "dOhriX-rGNJR",
    "outputId": "93b61cb1-1b65-403d-a17f-dff7d9a1f622"
   },
   "outputs": [
    {
     "name": "stdout",
     "output_type": "stream",
     "text": [
      "all\n"
     ]
    },
    {
     "data": {
      "text/html": [
       "<div>\n",
       "<style scoped>\n",
       "    .dataframe tbody tr th:only-of-type {\n",
       "        vertical-align: middle;\n",
       "    }\n",
       "\n",
       "    .dataframe tbody tr th {\n",
       "        vertical-align: top;\n",
       "    }\n",
       "\n",
       "    .dataframe thead th {\n",
       "        text-align: right;\n",
       "    }\n",
       "</style>\n",
       "<table border=\"1\" class=\"dataframe\">\n",
       "  <thead>\n",
       "    <tr style=\"text-align: right;\">\n",
       "      <th></th>\n",
       "      <th>IDF</th>\n",
       "      <th>ICF</th>\n",
       "      <th>Chi-sq</th>\n",
       "      <th>CG</th>\n",
       "      <th>ICB</th>\n",
       "      <th>DoP</th>\n",
       "      <th>RICF</th>\n",
       "    </tr>\n",
       "  </thead>\n",
       "  <tbody>\n",
       "    <tr>\n",
       "      <th>10</th>\n",
       "      <td>0.800</td>\n",
       "      <td>0.900</td>\n",
       "      <td>0.9000</td>\n",
       "      <td>1.0000</td>\n",
       "      <td>1.0000</td>\n",
       "      <td>0.0000</td>\n",
       "      <td>1.000</td>\n",
       "    </tr>\n",
       "    <tr>\n",
       "      <th>50</th>\n",
       "      <td>0.780</td>\n",
       "      <td>0.840</td>\n",
       "      <td>0.9600</td>\n",
       "      <td>0.9600</td>\n",
       "      <td>1.0000</td>\n",
       "      <td>0.0200</td>\n",
       "      <td>1.000</td>\n",
       "    </tr>\n",
       "    <tr>\n",
       "      <th>100</th>\n",
       "      <td>0.850</td>\n",
       "      <td>0.840</td>\n",
       "      <td>0.9600</td>\n",
       "      <td>0.9800</td>\n",
       "      <td>0.9800</td>\n",
       "      <td>0.0200</td>\n",
       "      <td>1.000</td>\n",
       "    </tr>\n",
       "    <tr>\n",
       "      <th>500</th>\n",
       "      <td>0.858</td>\n",
       "      <td>0.828</td>\n",
       "      <td>0.9460</td>\n",
       "      <td>0.9840</td>\n",
       "      <td>0.9740</td>\n",
       "      <td>0.0880</td>\n",
       "      <td>0.992</td>\n",
       "    </tr>\n",
       "    <tr>\n",
       "      <th>1000</th>\n",
       "      <td>0.872</td>\n",
       "      <td>0.840</td>\n",
       "      <td>0.9460</td>\n",
       "      <td>0.9830</td>\n",
       "      <td>0.9640</td>\n",
       "      <td>0.1420</td>\n",
       "      <td>0.987</td>\n",
       "    </tr>\n",
       "    <tr>\n",
       "      <th>5000</th>\n",
       "      <td>0.865</td>\n",
       "      <td>0.855</td>\n",
       "      <td>0.9148</td>\n",
       "      <td>0.9286</td>\n",
       "      <td>0.8974</td>\n",
       "      <td>0.3754</td>\n",
       "      <td>0.931</td>\n",
       "    </tr>\n",
       "  </tbody>\n",
       "</table>\n",
       "</div>"
      ],
      "text/plain": [
       "        IDF    ICF  Chi-sq      CG     ICB     DoP   RICF\n",
       "10    0.800  0.900  0.9000  1.0000  1.0000  0.0000  1.000\n",
       "50    0.780  0.840  0.9600  0.9600  1.0000  0.0200  1.000\n",
       "100   0.850  0.840  0.9600  0.9800  0.9800  0.0200  1.000\n",
       "500   0.858  0.828  0.9460  0.9840  0.9740  0.0880  0.992\n",
       "1000  0.872  0.840  0.9460  0.9830  0.9640  0.1420  0.987\n",
       "5000  0.865  0.855  0.9148  0.9286  0.8974  0.3754  0.931"
      ]
     },
     "metadata": {},
     "output_type": "display_data"
    },
    {
     "name": "stdout",
     "output_type": "stream",
     "text": [
      "amino_acid\n"
     ]
    },
    {
     "data": {
      "text/html": [
       "<div>\n",
       "<style scoped>\n",
       "    .dataframe tbody tr th:only-of-type {\n",
       "        vertical-align: middle;\n",
       "    }\n",
       "\n",
       "    .dataframe tbody tr th {\n",
       "        vertical-align: top;\n",
       "    }\n",
       "\n",
       "    .dataframe thead th {\n",
       "        text-align: right;\n",
       "    }\n",
       "</style>\n",
       "<table border=\"1\" class=\"dataframe\">\n",
       "  <thead>\n",
       "    <tr style=\"text-align: right;\">\n",
       "      <th></th>\n",
       "      <th>IDF</th>\n",
       "      <th>ICF</th>\n",
       "      <th>Chi-sq</th>\n",
       "      <th>CG</th>\n",
       "      <th>ICB</th>\n",
       "      <th>DoP</th>\n",
       "      <th>RICF</th>\n",
       "    </tr>\n",
       "  </thead>\n",
       "  <tbody>\n",
       "    <tr>\n",
       "      <th>10</th>\n",
       "      <td>0.500</td>\n",
       "      <td>0.3000</td>\n",
       "      <td>0.6000</td>\n",
       "      <td>1.0000</td>\n",
       "      <td>0.8000</td>\n",
       "      <td>0.000</td>\n",
       "      <td>1.000</td>\n",
       "    </tr>\n",
       "    <tr>\n",
       "      <th>50</th>\n",
       "      <td>0.300</td>\n",
       "      <td>0.2600</td>\n",
       "      <td>0.6000</td>\n",
       "      <td>0.7600</td>\n",
       "      <td>0.7000</td>\n",
       "      <td>0.020</td>\n",
       "      <td>0.780</td>\n",
       "    </tr>\n",
       "    <tr>\n",
       "      <th>100</th>\n",
       "      <td>0.320</td>\n",
       "      <td>0.2200</td>\n",
       "      <td>0.5700</td>\n",
       "      <td>0.8200</td>\n",
       "      <td>0.7500</td>\n",
       "      <td>0.010</td>\n",
       "      <td>0.830</td>\n",
       "    </tr>\n",
       "    <tr>\n",
       "      <th>500</th>\n",
       "      <td>0.264</td>\n",
       "      <td>0.2400</td>\n",
       "      <td>0.5320</td>\n",
       "      <td>0.6860</td>\n",
       "      <td>0.6220</td>\n",
       "      <td>0.048</td>\n",
       "      <td>0.696</td>\n",
       "    </tr>\n",
       "    <tr>\n",
       "      <th>1000</th>\n",
       "      <td>0.273</td>\n",
       "      <td>0.2540</td>\n",
       "      <td>0.5220</td>\n",
       "      <td>0.6410</td>\n",
       "      <td>0.5890</td>\n",
       "      <td>0.070</td>\n",
       "      <td>0.643</td>\n",
       "    </tr>\n",
       "    <tr>\n",
       "      <th>5000</th>\n",
       "      <td>0.268</td>\n",
       "      <td>0.2496</td>\n",
       "      <td>0.4294</td>\n",
       "      <td>0.4302</td>\n",
       "      <td>0.4112</td>\n",
       "      <td>0.163</td>\n",
       "      <td>0.430</td>\n",
       "    </tr>\n",
       "  </tbody>\n",
       "</table>\n",
       "</div>"
      ],
      "text/plain": [
       "        IDF     ICF  Chi-sq      CG     ICB    DoP   RICF\n",
       "10    0.500  0.3000  0.6000  1.0000  0.8000  0.000  1.000\n",
       "50    0.300  0.2600  0.6000  0.7600  0.7000  0.020  0.780\n",
       "100   0.320  0.2200  0.5700  0.8200  0.7500  0.010  0.830\n",
       "500   0.264  0.2400  0.5320  0.6860  0.6220  0.048  0.696\n",
       "1000  0.273  0.2540  0.5220  0.6410  0.5890  0.070  0.643\n",
       "5000  0.268  0.2496  0.4294  0.4302  0.4112  0.163  0.430"
      ]
     },
     "metadata": {},
     "output_type": "display_data"
    },
    {
     "name": "stdout",
     "output_type": "stream",
     "text": [
      "nucleotide\n"
     ]
    },
    {
     "data": {
      "text/html": [
       "<div>\n",
       "<style scoped>\n",
       "    .dataframe tbody tr th:only-of-type {\n",
       "        vertical-align: middle;\n",
       "    }\n",
       "\n",
       "    .dataframe tbody tr th {\n",
       "        vertical-align: top;\n",
       "    }\n",
       "\n",
       "    .dataframe thead th {\n",
       "        text-align: right;\n",
       "    }\n",
       "</style>\n",
       "<table border=\"1\" class=\"dataframe\">\n",
       "  <thead>\n",
       "    <tr style=\"text-align: right;\">\n",
       "      <th></th>\n",
       "      <th>IDF</th>\n",
       "      <th>ICF</th>\n",
       "      <th>Chi-sq</th>\n",
       "      <th>CG</th>\n",
       "      <th>ICB</th>\n",
       "      <th>DoP</th>\n",
       "      <th>RICF</th>\n",
       "    </tr>\n",
       "  </thead>\n",
       "  <tbody>\n",
       "    <tr>\n",
       "      <th>10</th>\n",
       "      <td>0.000</td>\n",
       "      <td>0.200</td>\n",
       "      <td>0.1000</td>\n",
       "      <td>0.0000</td>\n",
       "      <td>0.1000</td>\n",
       "      <td>0.0000</td>\n",
       "      <td>0.000</td>\n",
       "    </tr>\n",
       "    <tr>\n",
       "      <th>50</th>\n",
       "      <td>0.100</td>\n",
       "      <td>0.120</td>\n",
       "      <td>0.1000</td>\n",
       "      <td>0.1000</td>\n",
       "      <td>0.1200</td>\n",
       "      <td>0.0000</td>\n",
       "      <td>0.100</td>\n",
       "    </tr>\n",
       "    <tr>\n",
       "      <th>100</th>\n",
       "      <td>0.120</td>\n",
       "      <td>0.100</td>\n",
       "      <td>0.1100</td>\n",
       "      <td>0.1000</td>\n",
       "      <td>0.1000</td>\n",
       "      <td>0.0000</td>\n",
       "      <td>0.110</td>\n",
       "    </tr>\n",
       "    <tr>\n",
       "      <th>500</th>\n",
       "      <td>0.130</td>\n",
       "      <td>0.112</td>\n",
       "      <td>0.1360</td>\n",
       "      <td>0.1420</td>\n",
       "      <td>0.1460</td>\n",
       "      <td>0.0040</td>\n",
       "      <td>0.144</td>\n",
       "    </tr>\n",
       "    <tr>\n",
       "      <th>1000</th>\n",
       "      <td>0.147</td>\n",
       "      <td>0.130</td>\n",
       "      <td>0.1490</td>\n",
       "      <td>0.1350</td>\n",
       "      <td>0.1400</td>\n",
       "      <td>0.0140</td>\n",
       "      <td>0.137</td>\n",
       "    </tr>\n",
       "    <tr>\n",
       "      <th>5000</th>\n",
       "      <td>0.151</td>\n",
       "      <td>0.149</td>\n",
       "      <td>0.1534</td>\n",
       "      <td>0.1552</td>\n",
       "      <td>0.1484</td>\n",
       "      <td>0.0502</td>\n",
       "      <td>0.156</td>\n",
       "    </tr>\n",
       "  </tbody>\n",
       "</table>\n",
       "</div>"
      ],
      "text/plain": [
       "        IDF    ICF  Chi-sq      CG     ICB     DoP   RICF\n",
       "10    0.000  0.200  0.1000  0.0000  0.1000  0.0000  0.000\n",
       "50    0.100  0.120  0.1000  0.1000  0.1200  0.0000  0.100\n",
       "100   0.120  0.100  0.1100  0.1000  0.1000  0.0000  0.110\n",
       "500   0.130  0.112  0.1360  0.1420  0.1460  0.0040  0.144\n",
       "1000  0.147  0.130  0.1490  0.1350  0.1400  0.0140  0.137\n",
       "5000  0.151  0.149  0.1534  0.1552  0.1484  0.0502  0.156"
      ]
     },
     "metadata": {},
     "output_type": "display_data"
    },
    {
     "name": "stdout",
     "output_type": "stream",
     "text": [
      "multi_cell\n"
     ]
    },
    {
     "data": {
      "text/html": [
       "<div>\n",
       "<style scoped>\n",
       "    .dataframe tbody tr th:only-of-type {\n",
       "        vertical-align: middle;\n",
       "    }\n",
       "\n",
       "    .dataframe tbody tr th {\n",
       "        vertical-align: top;\n",
       "    }\n",
       "\n",
       "    .dataframe thead th {\n",
       "        text-align: right;\n",
       "    }\n",
       "</style>\n",
       "<table border=\"1\" class=\"dataframe\">\n",
       "  <thead>\n",
       "    <tr style=\"text-align: right;\">\n",
       "      <th></th>\n",
       "      <th>IDF</th>\n",
       "      <th>ICF</th>\n",
       "      <th>Chi-sq</th>\n",
       "      <th>CG</th>\n",
       "      <th>ICB</th>\n",
       "      <th>DoP</th>\n",
       "      <th>RICF</th>\n",
       "    </tr>\n",
       "  </thead>\n",
       "  <tbody>\n",
       "    <tr>\n",
       "      <th>10</th>\n",
       "      <td>0.0000</td>\n",
       "      <td>0.0000</td>\n",
       "      <td>0.000</td>\n",
       "      <td>0.0000</td>\n",
       "      <td>0.0000</td>\n",
       "      <td>0.0000</td>\n",
       "      <td>0.0000</td>\n",
       "    </tr>\n",
       "    <tr>\n",
       "      <th>50</th>\n",
       "      <td>0.0200</td>\n",
       "      <td>0.0400</td>\n",
       "      <td>0.020</td>\n",
       "      <td>0.0400</td>\n",
       "      <td>0.0400</td>\n",
       "      <td>0.0000</td>\n",
       "      <td>0.0400</td>\n",
       "    </tr>\n",
       "    <tr>\n",
       "      <th>100</th>\n",
       "      <td>0.0400</td>\n",
       "      <td>0.0500</td>\n",
       "      <td>0.040</td>\n",
       "      <td>0.0200</td>\n",
       "      <td>0.0200</td>\n",
       "      <td>0.0000</td>\n",
       "      <td>0.0200</td>\n",
       "    </tr>\n",
       "    <tr>\n",
       "      <th>500</th>\n",
       "      <td>0.0460</td>\n",
       "      <td>0.0340</td>\n",
       "      <td>0.054</td>\n",
       "      <td>0.0340</td>\n",
       "      <td>0.0320</td>\n",
       "      <td>0.0060</td>\n",
       "      <td>0.0320</td>\n",
       "    </tr>\n",
       "    <tr>\n",
       "      <th>1000</th>\n",
       "      <td>0.0390</td>\n",
       "      <td>0.0410</td>\n",
       "      <td>0.046</td>\n",
       "      <td>0.0390</td>\n",
       "      <td>0.0420</td>\n",
       "      <td>0.0110</td>\n",
       "      <td>0.0370</td>\n",
       "    </tr>\n",
       "    <tr>\n",
       "      <th>5000</th>\n",
       "      <td>0.0372</td>\n",
       "      <td>0.0342</td>\n",
       "      <td>0.044</td>\n",
       "      <td>0.0442</td>\n",
       "      <td>0.0412</td>\n",
       "      <td>0.0202</td>\n",
       "      <td>0.0442</td>\n",
       "    </tr>\n",
       "  </tbody>\n",
       "</table>\n",
       "</div>"
      ],
      "text/plain": [
       "         IDF     ICF  Chi-sq      CG     ICB     DoP    RICF\n",
       "10    0.0000  0.0000   0.000  0.0000  0.0000  0.0000  0.0000\n",
       "50    0.0200  0.0400   0.020  0.0400  0.0400  0.0000  0.0400\n",
       "100   0.0400  0.0500   0.040  0.0200  0.0200  0.0000  0.0200\n",
       "500   0.0460  0.0340   0.054  0.0340  0.0320  0.0060  0.0320\n",
       "1000  0.0390  0.0410   0.046  0.0390  0.0420  0.0110  0.0370\n",
       "5000  0.0372  0.0342   0.044  0.0442  0.0412  0.0202  0.0442"
      ]
     },
     "metadata": {},
     "output_type": "display_data"
    },
    {
     "name": "stdout",
     "output_type": "stream",
     "text": [
      "cell\n"
     ]
    },
    {
     "data": {
      "text/html": [
       "<div>\n",
       "<style scoped>\n",
       "    .dataframe tbody tr th:only-of-type {\n",
       "        vertical-align: middle;\n",
       "    }\n",
       "\n",
       "    .dataframe tbody tr th {\n",
       "        vertical-align: top;\n",
       "    }\n",
       "\n",
       "    .dataframe thead th {\n",
       "        text-align: right;\n",
       "    }\n",
       "</style>\n",
       "<table border=\"1\" class=\"dataframe\">\n",
       "  <thead>\n",
       "    <tr style=\"text-align: right;\">\n",
       "      <th></th>\n",
       "      <th>IDF</th>\n",
       "      <th>ICF</th>\n",
       "      <th>Chi-sq</th>\n",
       "      <th>CG</th>\n",
       "      <th>ICB</th>\n",
       "      <th>DoP</th>\n",
       "      <th>RICF</th>\n",
       "    </tr>\n",
       "  </thead>\n",
       "  <tbody>\n",
       "    <tr>\n",
       "      <th>10</th>\n",
       "      <td>0.1000</td>\n",
       "      <td>0.0000</td>\n",
       "      <td>0.1000</td>\n",
       "      <td>0.0000</td>\n",
       "      <td>0.0000</td>\n",
       "      <td>0.0000</td>\n",
       "      <td>0.000</td>\n",
       "    </tr>\n",
       "    <tr>\n",
       "      <th>50</th>\n",
       "      <td>0.1000</td>\n",
       "      <td>0.0600</td>\n",
       "      <td>0.1400</td>\n",
       "      <td>0.0000</td>\n",
       "      <td>0.0000</td>\n",
       "      <td>0.0000</td>\n",
       "      <td>0.020</td>\n",
       "    </tr>\n",
       "    <tr>\n",
       "      <th>100</th>\n",
       "      <td>0.1000</td>\n",
       "      <td>0.1400</td>\n",
       "      <td>0.1200</td>\n",
       "      <td>0.0100</td>\n",
       "      <td>0.0200</td>\n",
       "      <td>0.0100</td>\n",
       "      <td>0.010</td>\n",
       "    </tr>\n",
       "    <tr>\n",
       "      <th>500</th>\n",
       "      <td>0.1020</td>\n",
       "      <td>0.1400</td>\n",
       "      <td>0.0780</td>\n",
       "      <td>0.0400</td>\n",
       "      <td>0.0600</td>\n",
       "      <td>0.0200</td>\n",
       "      <td>0.038</td>\n",
       "    </tr>\n",
       "    <tr>\n",
       "      <th>1000</th>\n",
       "      <td>0.0970</td>\n",
       "      <td>0.1160</td>\n",
       "      <td>0.0870</td>\n",
       "      <td>0.0620</td>\n",
       "      <td>0.0700</td>\n",
       "      <td>0.0260</td>\n",
       "      <td>0.060</td>\n",
       "    </tr>\n",
       "    <tr>\n",
       "      <th>5000</th>\n",
       "      <td>0.1074</td>\n",
       "      <td>0.1096</td>\n",
       "      <td>0.0942</td>\n",
       "      <td>0.0988</td>\n",
       "      <td>0.0986</td>\n",
       "      <td>0.0514</td>\n",
       "      <td>0.100</td>\n",
       "    </tr>\n",
       "  </tbody>\n",
       "</table>\n",
       "</div>"
      ],
      "text/plain": [
       "         IDF     ICF  Chi-sq      CG     ICB     DoP   RICF\n",
       "10    0.1000  0.0000  0.1000  0.0000  0.0000  0.0000  0.000\n",
       "50    0.1000  0.0600  0.1400  0.0000  0.0000  0.0000  0.020\n",
       "100   0.1000  0.1400  0.1200  0.0100  0.0200  0.0100  0.010\n",
       "500   0.1020  0.1400  0.0780  0.0400  0.0600  0.0200  0.038\n",
       "1000  0.0970  0.1160  0.0870  0.0620  0.0700  0.0260  0.060\n",
       "5000  0.1074  0.1096  0.0942  0.0988  0.0986  0.0514  0.100"
      ]
     },
     "metadata": {},
     "output_type": "display_data"
    },
    {
     "name": "stdout",
     "output_type": "stream",
     "text": [
      "other\n"
     ]
    },
    {
     "data": {
      "text/html": [
       "<div>\n",
       "<style scoped>\n",
       "    .dataframe tbody tr th:only-of-type {\n",
       "        vertical-align: middle;\n",
       "    }\n",
       "\n",
       "    .dataframe tbody tr th {\n",
       "        vertical-align: top;\n",
       "    }\n",
       "\n",
       "    .dataframe thead th {\n",
       "        text-align: right;\n",
       "    }\n",
       "</style>\n",
       "<table border=\"1\" class=\"dataframe\">\n",
       "  <thead>\n",
       "    <tr style=\"text-align: right;\">\n",
       "      <th></th>\n",
       "      <th>IDF</th>\n",
       "      <th>ICF</th>\n",
       "      <th>Chi-sq</th>\n",
       "      <th>CG</th>\n",
       "      <th>ICB</th>\n",
       "      <th>DoP</th>\n",
       "      <th>RICF</th>\n",
       "    </tr>\n",
       "  </thead>\n",
       "  <tbody>\n",
       "    <tr>\n",
       "      <th>10</th>\n",
       "      <td>0.2000</td>\n",
       "      <td>0.4000</td>\n",
       "      <td>0.1000</td>\n",
       "      <td>0.0000</td>\n",
       "      <td>0.100</td>\n",
       "      <td>0.0000</td>\n",
       "      <td>0.0000</td>\n",
       "    </tr>\n",
       "    <tr>\n",
       "      <th>50</th>\n",
       "      <td>0.2600</td>\n",
       "      <td>0.3600</td>\n",
       "      <td>0.1000</td>\n",
       "      <td>0.0600</td>\n",
       "      <td>0.140</td>\n",
       "      <td>0.0000</td>\n",
       "      <td>0.0600</td>\n",
       "    </tr>\n",
       "    <tr>\n",
       "      <th>100</th>\n",
       "      <td>0.2700</td>\n",
       "      <td>0.3300</td>\n",
       "      <td>0.1200</td>\n",
       "      <td>0.0300</td>\n",
       "      <td>0.090</td>\n",
       "      <td>0.0000</td>\n",
       "      <td>0.0300</td>\n",
       "    </tr>\n",
       "    <tr>\n",
       "      <th>500</th>\n",
       "      <td>0.3160</td>\n",
       "      <td>0.3020</td>\n",
       "      <td>0.1460</td>\n",
       "      <td>0.0820</td>\n",
       "      <td>0.114</td>\n",
       "      <td>0.0100</td>\n",
       "      <td>0.0820</td>\n",
       "    </tr>\n",
       "    <tr>\n",
       "      <th>1000</th>\n",
       "      <td>0.3160</td>\n",
       "      <td>0.2990</td>\n",
       "      <td>0.1420</td>\n",
       "      <td>0.1060</td>\n",
       "      <td>0.123</td>\n",
       "      <td>0.0210</td>\n",
       "      <td>0.1100</td>\n",
       "    </tr>\n",
       "    <tr>\n",
       "      <th>5000</th>\n",
       "      <td>0.3014</td>\n",
       "      <td>0.3126</td>\n",
       "      <td>0.1938</td>\n",
       "      <td>0.2002</td>\n",
       "      <td>0.198</td>\n",
       "      <td>0.0906</td>\n",
       "      <td>0.2008</td>\n",
       "    </tr>\n",
       "  </tbody>\n",
       "</table>\n",
       "</div>"
      ],
      "text/plain": [
       "         IDF     ICF  Chi-sq      CG    ICB     DoP    RICF\n",
       "10    0.2000  0.4000  0.1000  0.0000  0.100  0.0000  0.0000\n",
       "50    0.2600  0.3600  0.1000  0.0600  0.140  0.0000  0.0600\n",
       "100   0.2700  0.3300  0.1200  0.0300  0.090  0.0000  0.0300\n",
       "500   0.3160  0.3020  0.1460  0.0820  0.114  0.0100  0.0820\n",
       "1000  0.3160  0.2990  0.1420  0.1060  0.123  0.0210  0.1100\n",
       "5000  0.3014  0.3126  0.1938  0.2002  0.198  0.0906  0.2008"
      ]
     },
     "metadata": {},
     "output_type": "display_data"
    }
   ],
   "source": [
    "# These are the p@k scores for the different categories of domain-specific words\n",
    "at_values = np.array([10, 50, 100, 500, 1000, 5000])\n",
    "highlights = {'all': all_genia_words, 'amino_acid': amino_acid, 'nucleotide': nucleotide, 'multi_cell': multi_cell, 'cell': cell, 'other': other}\n",
    "dfs = []\n",
    "for k, v in highlights.items():\n",
    "  dfs.append(create_p_k(v))\n",
    "  print(k)\n",
    "  display(dfs[-1])"
   ]
  },
  {
   "cell_type": "code",
   "execution_count": 25,
   "metadata": {
    "id": "wK1mtYY2KyiK"
   },
   "outputs": [],
   "source": [
    "# This cell writes the p@k tables to file (uncomment to write).\n",
    "dfs[0].to_csv('../3-main-results/p@k/all_semantic_classes.csv')\n",
    "dfs[1].to_csv('../3-main-results/p@k/amino_acid_semantic_classes.csv')\n",
    "dfs[2].to_csv('../3-main-results/p@k/nucleotide_semantic_classes.csv')\n",
    "dfs[3].to_csv('../3-main-results/p@k/multi-cell_semantic_classes.csv')\n",
    "dfs[4].to_csv('../3-main-results/p@k/cell_semantic_classes.csv')\n",
    "dfs[5].to_csv('../3-main-results/p@k/other_semantic_classes.csv')"
   ]
  },
  {
   "cell_type": "code",
   "execution_count": 52,
   "metadata": {
    "colab": {
     "base_uri": "https://localhost:8080/"
    },
    "id": "twRx-NtocoKQ",
    "outputId": "3230dd8a-655b-43f9-a7b5-b5600e04be90"
   },
   "outputs": [
    {
     "data": {
      "text/plain": [
       "{'all': 90969,\n",
       " 'amino_acid': 42478,\n",
       " 'nucleotide': 11619,\n",
       " 'multi_cell': 5247,\n",
       " 'cell': 11626,\n",
       " 'other': 19999}"
      ]
     },
     "execution_count": 52,
     "metadata": {},
     "output_type": "execute_result"
    }
   ],
   "source": [
    "# This cell counts how many words of each color there are in the corpus\n",
    "color_words = [all_genia_words, amino_acid, nucleotide, multi_cell, cell, other]\n",
    "color_words_counter = [0, 0, 0, 0, 0, 0]\n",
    "for i in range(len(color_words)):\n",
    "  for j in range(len(vocab)):\n",
    "    if vocab[j] in color_words[i]:\n",
    "      color_words_counter[i] += N_i.A[0][j]\n",
    "\n",
    "names_of_words = ['all', 'amino_acid', 'nucleotide', 'multi_cell', 'cell', 'other']\n",
    "color_word_count_zip = zip(names_of_words, color_words_counter)\n",
    "counter_dict = dict(color_word_count_zip)\n",
    "counter_dict"
   ]
  },
  {
   "cell_type": "code",
   "execution_count": 53,
   "metadata": {
    "id": "WKlXZuFN84l-"
   },
   "outputs": [
    {
     "data": {
      "text/plain": [
       "{'all': 31784,\n",
       " 'amino_acid': 10155,\n",
       " 'nucleotide': 5574,\n",
       " 'multi_cell': 1444,\n",
       " 'cell': 4051,\n",
       " 'other': 10560}"
      ]
     },
     "execution_count": 53,
     "metadata": {},
     "output_type": "execute_result"
    }
   ],
   "source": [
    "# This cell counts the number of unique words of each color in the corpus\n",
    "color_words_counter = [0, 0, 0, 0, 0, 0]\n",
    "for i in range(len(color_words)):\n",
    "  for j in range(len(vocab)):\n",
    "    if vocab[j] in color_words[i]:\n",
    "      color_words_counter[i] += 1\n",
    "\n",
    "unique_word_count_zip = zip(names_of_words, color_words_counter)\n",
    "unique_word_num_dict = dict(unique_word_count_zip)\n",
    "unique_word_num_dict"
   ]
  },
  {
   "cell_type": "code",
   "execution_count": null,
   "metadata": {},
   "outputs": [],
   "source": []
  }
 ],
 "metadata": {
  "colab": {
   "collapsed_sections": [
    "91NU-MJcn4rq",
    "FPsrW3ClAKBo"
   ],
   "provenance": []
  },
  "kernelspec": {
   "display_name": "Python 3 (ipykernel)",
   "language": "python",
   "name": "python3"
  },
  "language_info": {
   "codemirror_mode": {
    "name": "ipython",
    "version": 3
   },
   "file_extension": ".py",
   "mimetype": "text/x-python",
   "name": "python",
   "nbconvert_exporter": "python",
   "pygments_lexer": "ipython3",
   "version": "3.11.3"
  }
 },
 "nbformat": 4,
 "nbformat_minor": 4
}

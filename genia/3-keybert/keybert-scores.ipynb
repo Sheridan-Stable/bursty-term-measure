{
 "cells": [
  {
   "cell_type": "markdown",
   "metadata": {},
   "source": [
    "# GENIA Term Extraction with KeyBERT\n",
    "\n",
    "Authors: Samuel Sarria Hurtado and Paul Sheridan\n",
    "\n",
    "Last update: 2023-10-02\n",
    "\n",
    "Description: Preprocess the GENIA Term corpus version 3.02 dataset.\n",
    "\n",
    "Inputs:\n",
    "* Preprocessed documents (JSON): GENIAcorpus3.02-preprocessed.json\n",
    "\n",
    "Outputs:\n",
    "* KeyBERT term scores (JSON): keybert-scores.json"
   ]
  },
  {
   "cell_type": "markdown",
   "metadata": {
    "id": "4NwsVkxnJq7K"
   },
   "source": [
    "## Imports"
   ]
  },
  {
   "cell_type": "code",
   "execution_count": 1,
   "metadata": {
    "colab": {
     "base_uri": "https://localhost:8080/"
    },
    "id": "xTLxJLWfVIjs",
    "outputId": "38567c6e-8510-4909-86ef-205a1326a916"
   },
   "outputs": [],
   "source": [
    "import json\n",
    "from keybert import KeyBERT\n",
    "import random\n",
    "from sklearn.feature_extraction.text import CountVectorizer"
   ]
  },
  {
   "cell_type": "markdown",
   "metadata": {
    "id": "n4AR2ln4J2mj"
   },
   "source": [
    "## Read and Process GENIA Data"
   ]
  },
  {
   "cell_type": "code",
   "execution_count": 2,
   "metadata": {
    "id": "_VmOlR_IV6R_"
   },
   "outputs": [],
   "source": [
    "# Read in GENIA data\n",
    "genia_path = '../0-data-preprocessed/GENIAcorpus3.02-preprocessed.json'\n",
    "\n",
    "with open(genia_path, 'r') as c:\n",
    "  genia = json.loads(c.read())\n",
    "\n",
    "genia_str = ' '.join(genia)"
   ]
  },
  {
   "cell_type": "code",
   "execution_count": 3,
   "metadata": {
    "id": "NNOI4DibxfUD"
   },
   "outputs": [],
   "source": [
    "# Make sure we use every word in the GENIA corpus for vocab\n",
    "pre_vocab = []\n",
    "for i in range(len(genia)):\n",
    "  pre_vocab.append(genia[i].split())\n",
    "\n",
    "vocab = []\n",
    "for i in range(len(pre_vocab)):\n",
    "  for j in range(len(pre_vocab[i])):\n",
    "    vocab.append(pre_vocab[i][j])\n",
    "\n",
    "vocab = list(set(vocab))"
   ]
  },
  {
   "cell_type": "code",
   "execution_count": 4,
   "metadata": {
    "id": "3-Ssxqc-_BPL"
   },
   "outputs": [],
   "source": [
    "# Define the function that will let us use all unique words in the genia file as vocab\n",
    "def analyzer_custom(doc):\n",
    "  return doc.split()"
   ]
  },
  {
   "cell_type": "code",
   "execution_count": 5,
   "metadata": {
    "colab": {
     "base_uri": "https://localhost:8080/",
     "height": 252
    },
    "id": "4uQscL6m-naM",
    "outputId": "6b5bf0dc-ac98-4885-cf7b-e78e9d3d4a18"
   },
   "outputs": [],
   "source": [
    "# Vectorize the data\n",
    "counter = CountVectorizer(lowercase=False, vocabulary=vocab, analyzer=analyzer_custom)"
   ]
  },
  {
   "cell_type": "markdown",
   "metadata": {
    "id": "peax7-3LJ8pA"
   },
   "source": [
    "## Calculate KeyBERT Rankings"
   ]
  },
  {
   "cell_type": "code",
   "execution_count": 6,
   "metadata": {
    "id": "dpjPhrizbf43"
   },
   "outputs": [],
   "source": [
    "# Set random seed\n",
    "random.seed(20230807)"
   ]
  },
  {
   "cell_type": "code",
   "execution_count": 7,
   "metadata": {
    "id": "u8KjYMBeYeA6"
   },
   "outputs": [],
   "source": [
    "# Calculate rankings (this might take awhile)\n",
    "kw_model = KeyBERT()\n",
    "keywords = kw_model.extract_keywords(genia_str, keyphrase_ngram_range=(1, 1), stop_words=None, vectorizer=counter, top_n=40804)"
   ]
  },
  {
   "cell_type": "markdown",
   "metadata": {},
   "source": [
    "## Write to File"
   ]
  },
  {
   "cell_type": "code",
   "execution_count": 8,
   "metadata": {
    "id": "couBJqSC4qXj"
   },
   "outputs": [],
   "source": [
    "# This cell writes the KeyBERT rankings to a json file, uncomment to rewrite.\n",
    "keybert_scores_name = 'keybert-scores.json'\n",
    "with open(keybert_scores_name, 'w') as outfile:\n",
    "  json.dump(keywords, outfile)"
   ]
  }
 ],
 "metadata": {
  "colab": {
   "provenance": []
  },
  "kernelspec": {
   "display_name": "Python 3 (ipykernel)",
   "language": "python",
   "name": "python3"
  },
  "language_info": {
   "codemirror_mode": {
    "name": "ipython",
    "version": 3
   },
   "file_extension": ".py",
   "mimetype": "text/x-python",
   "name": "python",
   "nbconvert_exporter": "python",
   "pygments_lexer": "ipython3",
   "version": "3.11.3"
  }
 },
 "nbformat": 4,
 "nbformat_minor": 4
}

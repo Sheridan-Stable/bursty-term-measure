{
 "cells": [
  {
   "cell_type": "markdown",
   "metadata": {
    "id": "4NwsVkxnJq7K"
   },
   "source": [
    "# Preliminaries"
   ]
  },
  {
   "cell_type": "code",
   "execution_count": 1,
   "metadata": {
    "colab": {
     "base_uri": "https://localhost:8080/"
    },
    "id": "xTLxJLWfVIjs",
    "outputId": "38567c6e-8510-4909-86ef-205a1326a916"
   },
   "outputs": [],
   "source": [
    "import json\n",
    "from keybert import KeyBERT\n",
    "import random\n",
    "from sklearn.feature_extraction.text import CountVectorizer"
   ]
  },
  {
   "cell_type": "markdown",
   "metadata": {
    "id": "n4AR2ln4J2mj"
   },
   "source": [
    "# Reading and Vectorizing GENIA collection"
   ]
  },
  {
   "cell_type": "code",
   "execution_count": 2,
   "metadata": {
    "id": "_VmOlR_IV6R_"
   },
   "outputs": [],
   "source": [
    "genia_path = '../0-data-preprocessed/GENIAcorpus3.02-preprocessed.json'\n",
    "\n",
    "with open(genia_path, 'r') as c:\n",
    "  genia = json.loads(c.read())\n",
    "\n",
    "genia_str = ' '.join(genia)"
   ]
  },
  {
   "cell_type": "code",
   "execution_count": 3,
   "metadata": {
    "id": "NNOI4DibxfUD"
   },
   "outputs": [],
   "source": [
    "# Making sure we use every word in the genia collection for vocab.\n",
    "pre_vocab = []\n",
    "for i in range(len(genia)):\n",
    "  pre_vocab.append(genia[i].split())\n",
    "\n",
    "vocab = []\n",
    "for i in range(len(pre_vocab)):\n",
    "  for j in range(len(pre_vocab[i])):\n",
    "    vocab.append(pre_vocab[i][j])\n",
    "\n",
    "vocab = list(set(vocab))"
   ]
  },
  {
   "cell_type": "code",
   "execution_count": 4,
   "metadata": {
    "id": "3-Ssxqc-_BPL"
   },
   "outputs": [],
   "source": [
    "# Define the function that will let us use all unique words in the genia file as\n",
    "# vocab.\n",
    "\n",
    "def analyzer_custom(doc):\n",
    "  return doc.split()"
   ]
  },
  {
   "cell_type": "code",
   "execution_count": 5,
   "metadata": {
    "colab": {
     "base_uri": "https://localhost:8080/",
     "height": 252
    },
    "id": "4uQscL6m-naM",
    "outputId": "6b5bf0dc-ac98-4885-cf7b-e78e9d3d4a18"
   },
   "outputs": [],
   "source": [
    "counter = CountVectorizer(lowercase=False, vocabulary=vocab, analyzer=analyzer_custom)"
   ]
  },
  {
   "cell_type": "markdown",
   "metadata": {
    "id": "peax7-3LJ8pA"
   },
   "source": [
    "# Retrieving the KeyBERT rankings"
   ]
  },
  {
   "cell_type": "code",
   "execution_count": 6,
   "metadata": {
    "id": "dpjPhrizbf43"
   },
   "outputs": [],
   "source": [
    "# Set random seed for reproducibility\n",
    "random.seed(20230807)"
   ]
  },
  {
   "cell_type": "code",
   "execution_count": 7,
   "metadata": {
    "id": "u8KjYMBeYeA6"
   },
   "outputs": [
    {
     "data": {
      "application/vnd.jupyter.widget-view+json": {
       "model_id": "ca67c7b6061a48eabe8fc5e4d21cce83",
       "version_major": 2,
       "version_minor": 0
      },
      "text/plain": [
       "Downloading (…)e9125/.gitattributes:   0%|          | 0.00/1.18k [00:00<?, ?B/s]"
      ]
     },
     "metadata": {},
     "output_type": "display_data"
    },
    {
     "data": {
      "application/vnd.jupyter.widget-view+json": {
       "model_id": "56f7191fb948484bac0602410f7f2570",
       "version_major": 2,
       "version_minor": 0
      },
      "text/plain": [
       "Downloading (…)_Pooling/config.json:   0%|          | 0.00/190 [00:00<?, ?B/s]"
      ]
     },
     "metadata": {},
     "output_type": "display_data"
    },
    {
     "data": {
      "application/vnd.jupyter.widget-view+json": {
       "model_id": "133c537f2a5f4303989398b9c2628fc7",
       "version_major": 2,
       "version_minor": 0
      },
      "text/plain": [
       "Downloading (…)7e55de9125/README.md:   0%|          | 0.00/10.6k [00:00<?, ?B/s]"
      ]
     },
     "metadata": {},
     "output_type": "display_data"
    },
    {
     "data": {
      "application/vnd.jupyter.widget-view+json": {
       "model_id": "f0672256c0e84ec09ffb4927a6a2ef0f",
       "version_major": 2,
       "version_minor": 0
      },
      "text/plain": [
       "Downloading (…)55de9125/config.json:   0%|          | 0.00/612 [00:00<?, ?B/s]"
      ]
     },
     "metadata": {},
     "output_type": "display_data"
    },
    {
     "data": {
      "application/vnd.jupyter.widget-view+json": {
       "model_id": "a0b7b86c3f544c1989b4825db623f975",
       "version_major": 2,
       "version_minor": 0
      },
      "text/plain": [
       "Downloading (…)ce_transformers.json:   0%|          | 0.00/116 [00:00<?, ?B/s]"
      ]
     },
     "metadata": {},
     "output_type": "display_data"
    },
    {
     "data": {
      "application/vnd.jupyter.widget-view+json": {
       "model_id": "507ae087ff3f49269e28f8dca14275f0",
       "version_major": 2,
       "version_minor": 0
      },
      "text/plain": [
       "Downloading (…)125/data_config.json:   0%|          | 0.00/39.3k [00:00<?, ?B/s]"
      ]
     },
     "metadata": {},
     "output_type": "display_data"
    },
    {
     "data": {
      "application/vnd.jupyter.widget-view+json": {
       "model_id": "982126b6c1a046cdba0ca6c45d68635b",
       "version_major": 2,
       "version_minor": 0
      },
      "text/plain": [
       "Downloading pytorch_model.bin:   0%|          | 0.00/90.9M [00:00<?, ?B/s]"
      ]
     },
     "metadata": {},
     "output_type": "display_data"
    },
    {
     "data": {
      "application/vnd.jupyter.widget-view+json": {
       "model_id": "5c40be523cc4402abd2330524a0460e7",
       "version_major": 2,
       "version_minor": 0
      },
      "text/plain": [
       "Downloading (…)nce_bert_config.json:   0%|          | 0.00/53.0 [00:00<?, ?B/s]"
      ]
     },
     "metadata": {},
     "output_type": "display_data"
    },
    {
     "data": {
      "application/vnd.jupyter.widget-view+json": {
       "model_id": "306b58feb432470ea939309cc1b986d7",
       "version_major": 2,
       "version_minor": 0
      },
      "text/plain": [
       "Downloading (…)cial_tokens_map.json:   0%|          | 0.00/112 [00:00<?, ?B/s]"
      ]
     },
     "metadata": {},
     "output_type": "display_data"
    },
    {
     "data": {
      "application/vnd.jupyter.widget-view+json": {
       "model_id": "854d16fdc29f46b1a2db1f78a1b1595f",
       "version_major": 2,
       "version_minor": 0
      },
      "text/plain": [
       "Downloading (…)e9125/tokenizer.json:   0%|          | 0.00/466k [00:00<?, ?B/s]"
      ]
     },
     "metadata": {},
     "output_type": "display_data"
    },
    {
     "data": {
      "application/vnd.jupyter.widget-view+json": {
       "model_id": "f5726cd1194140daa49259f8eee3f59b",
       "version_major": 2,
       "version_minor": 0
      },
      "text/plain": [
       "Downloading (…)okenizer_config.json:   0%|          | 0.00/350 [00:00<?, ?B/s]"
      ]
     },
     "metadata": {},
     "output_type": "display_data"
    },
    {
     "data": {
      "application/vnd.jupyter.widget-view+json": {
       "model_id": "1f0450e4e30f4a9082ff1abbb7215a2a",
       "version_major": 2,
       "version_minor": 0
      },
      "text/plain": [
       "Downloading (…)9125/train_script.py:   0%|          | 0.00/13.2k [00:00<?, ?B/s]"
      ]
     },
     "metadata": {},
     "output_type": "display_data"
    },
    {
     "data": {
      "application/vnd.jupyter.widget-view+json": {
       "model_id": "0ac52e8991e84b3595fc95b8ae51811d",
       "version_major": 2,
       "version_minor": 0
      },
      "text/plain": [
       "Downloading (…)7e55de9125/vocab.txt:   0%|          | 0.00/232k [00:00<?, ?B/s]"
      ]
     },
     "metadata": {},
     "output_type": "display_data"
    },
    {
     "data": {
      "application/vnd.jupyter.widget-view+json": {
       "model_id": "3f269428bd484c3a9773e903d14352a5",
       "version_major": 2,
       "version_minor": 0
      },
      "text/plain": [
       "Downloading (…)5de9125/modules.json:   0%|          | 0.00/349 [00:00<?, ?B/s]"
      ]
     },
     "metadata": {},
     "output_type": "display_data"
    }
   ],
   "source": [
    "# Taking the first 5000 keywords according to KeyBERT's rankings (it takes a while)\n",
    "kw_model = KeyBERT()\n",
    "keywords = kw_model.extract_keywords(genia_str, keyphrase_ngram_range=(1, 1), stop_words=None, vectorizer=counter, top_n=5000)"
   ]
  },
  {
   "cell_type": "code",
   "execution_count": 9,
   "metadata": {
    "id": "couBJqSC4qXj"
   },
   "outputs": [],
   "source": [
    "# This cell writes the KeyBERT rankings to a json file, uncomment to rewrite.\n",
    "keybert_scores_name = 'keybert-scores.json'\n",
    "with open(keybert_scores_name, 'w') as outfile:\n",
    "  json.dump(keywords, outfile)"
   ]
  }
 ],
 "metadata": {
  "colab": {
   "provenance": []
  },
  "kernelspec": {
   "display_name": "Python 3 (ipykernel)",
   "language": "python",
   "name": "python3"
  },
  "language_info": {
   "codemirror_mode": {
    "name": "ipython",
    "version": 3
   },
   "file_extension": ".py",
   "mimetype": "text/x-python",
   "name": "python",
   "nbconvert_exporter": "python",
   "pygments_lexer": "ipython3",
   "version": "3.11.3"
  }
 },
 "nbformat": 4,
 "nbformat_minor": 4
}

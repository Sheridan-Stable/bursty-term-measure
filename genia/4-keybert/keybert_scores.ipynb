{
 "cells": [
  {
   "cell_type": "markdown",
   "metadata": {
    "id": "4NwsVkxnJq7K"
   },
   "source": [
    "# Preliminaries"
   ]
  },
  {
   "cell_type": "code",
   "execution_count": 1,
   "metadata": {
    "colab": {
     "base_uri": "https://localhost:8080/"
    },
    "id": "xTLxJLWfVIjs",
    "outputId": "38567c6e-8510-4909-86ef-205a1326a916"
   },
   "outputs": [],
   "source": [
    "import json\n",
    "from keybert import KeyBERT\n",
    "import random\n",
    "from sklearn.feature_extraction.text import CountVectorizer"
   ]
  },
  {
   "cell_type": "markdown",
   "metadata": {
    "id": "n4AR2ln4J2mj"
   },
   "source": [
    "# Reading and Vectorizing GENIA collection"
   ]
  },
  {
   "cell_type": "code",
   "execution_count": 2,
   "metadata": {
    "id": "_VmOlR_IV6R_"
   },
   "outputs": [],
   "source": [
    "genia_path = '../0-data-preprocessed/GENIAcorpus3.02-preprocessed.json'\n",
    "\n",
    "with open(genia_path, 'r') as c:\n",
    "  genia = json.loads(c.read())\n",
    "\n",
    "genia_str = ' '.join(genia)"
   ]
  },
  {
   "cell_type": "code",
   "execution_count": 3,
   "metadata": {
    "id": "NNOI4DibxfUD"
   },
   "outputs": [],
   "source": [
    "# Making sure we use every word in the genia collection for vocab.\n",
    "pre_vocab = []\n",
    "for i in range(len(genia)):\n",
    "  pre_vocab.append(genia[i].split())\n",
    "\n",
    "vocab = []\n",
    "for i in range(len(pre_vocab)):\n",
    "  for j in range(len(pre_vocab[i])):\n",
    "    vocab.append(pre_vocab[i][j])\n",
    "\n",
    "vocab = list(set(vocab))"
   ]
  },
  {
   "cell_type": "code",
   "execution_count": 4,
   "metadata": {
    "id": "3-Ssxqc-_BPL"
   },
   "outputs": [],
   "source": [
    "# Define the function that will let us use all unique words in the genia file as\n",
    "# vocab.\n",
    "\n",
    "def analyzer_custom(doc):\n",
    "  return doc.split()"
   ]
  },
  {
   "cell_type": "code",
   "execution_count": 5,
   "metadata": {
    "colab": {
     "base_uri": "https://localhost:8080/",
     "height": 252
    },
    "id": "4uQscL6m-naM",
    "outputId": "6b5bf0dc-ac98-4885-cf7b-e78e9d3d4a18"
   },
   "outputs": [],
   "source": [
    "counter = CountVectorizer(lowercase=False, vocabulary=vocab, analyzer=analyzer_custom)"
   ]
  },
  {
   "cell_type": "markdown",
   "metadata": {
    "id": "peax7-3LJ8pA"
   },
   "source": [
    "# Retrieving the KeyBERT rankings"
   ]
  },
  {
   "cell_type": "code",
   "execution_count": 6,
   "metadata": {
    "id": "dpjPhrizbf43"
   },
   "outputs": [],
   "source": [
    "# Set random seed for reproducibility\n",
    "random.seed(20230807)"
   ]
  },
  {
   "cell_type": "code",
   "execution_count": 7,
   "metadata": {
    "id": "u8KjYMBeYeA6"
   },
   "outputs": [],
   "source": [
    "# Taking the first 5000 keywords according to KeyBERT's rankings (it takes a while)\n",
    "kw_model = KeyBERT()\n",
    "keywords = kw_model.extract_keywords(genia_str, keyphrase_ngram_range=(1, 1), stop_words=None, vectorizer=counter, top_n=40804)"
   ]
  },
  {
   "cell_type": "code",
   "execution_count": 9,
   "metadata": {
    "id": "couBJqSC4qXj"
   },
   "outputs": [],
   "source": [
    "# This cell writes the KeyBERT rankings to a json file, uncomment to rewrite.\n",
    "keybert_scores_name = 'keybert-scores.json'\n",
    "with open(keybert_scores_name, 'w') as outfile:\n",
    "  json.dump(keywords, outfile)"
   ]
  },
  {
   "cell_type": "code",
   "execution_count": null,
   "metadata": {},
   "outputs": [],
   "source": []
  }
 ],
 "metadata": {
  "colab": {
   "provenance": []
  },
  "kernelspec": {
   "display_name": "Python 3 (ipykernel)",
   "language": "python",
   "name": "python3"
  },
  "language_info": {
   "codemirror_mode": {
    "name": "ipython",
    "version": 3
   },
   "file_extension": ".py",
   "mimetype": "text/x-python",
   "name": "python",
   "nbconvert_exporter": "python",
   "pygments_lexer": "ipython3",
   "version": "3.11.3"
  }
 },
 "nbformat": 4,
 "nbformat_minor": 4
}

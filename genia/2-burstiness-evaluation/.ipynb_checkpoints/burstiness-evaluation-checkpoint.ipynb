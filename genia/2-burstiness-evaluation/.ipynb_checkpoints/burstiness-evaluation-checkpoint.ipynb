{
 "cells": [
  {
   "cell_type": "markdown",
   "metadata": {
    "id": "FUcGS9WsjDuM"
   },
   "source": [
    "# Evaluate Word Burstiness Scores on the Genia Corpus Data\n",
    "\n",
    "Authors: Samuel Sarria Hurtado and Paul Sheridan\n",
    "\n",
    "Goal: Evaluate the following word burstiness scores on the Genia corpus data\n",
    "- Kwok\n",
    "- Irvine and Callison-Burch\n",
    "- Derivation of Proportions (DOP for short)\n",
    "- Chi-square\n",
    "- Naive Sarria Hurtado Mullen Sheridan\n",
    "- Sarria Hurtado Mullen Sheridan tail probability\n",
    "\n",
    "Likewise evaluate KeyBERT word scores. Calculate P@k scores for each scoring function using the Genia terms as ground truth."
   ]
  },
  {
   "cell_type": "markdown",
   "metadata": {
    "id": "91NU-MJcn4rq"
   },
   "source": [
    "## Preliminaries"
   ]
  },
  {
   "cell_type": "code",
   "execution_count": 1,
   "metadata": {
    "colab": {
     "base_uri": "https://localhost:8080/"
    },
    "id": "XI8HNvL-lgvJ",
    "outputId": "78ae133d-1a47-4e95-e9e0-374586c801e8"
   },
   "outputs": [],
   "source": [
    "# Add path to Python function files to system path\n",
    "import sys\n",
    "import json\n",
    "import pandas as pd\n",
    "imports_path = '../0-base-functions/'\n",
    "sys.path.append(imports_path)\n",
    "import word_stats\n",
    "from sklearn.feature_extraction.text import CountVectorizer\n",
    "import numpy as np\n",
    "import scipy\n",
    "import nltk\n",
    "from nltk.corpus import stopwords\n",
    "from io import StringIO\n",
    "from numpy import nan"
   ]
  },
  {
   "cell_type": "markdown",
   "metadata": {
    "id": "ADCYDIp4xqU4"
   },
   "source": [
    "### Read in all necessary data"
   ]
  },
  {
   "cell_type": "code",
   "execution_count": 2,
   "metadata": {
    "id": "iE_1xCV52z4V"
   },
   "outputs": [],
   "source": [
    "# load the genia corpus, the genia keywords, the keybert rankings, and all the different lists of stopwords.\n",
    "json_genia_path = '../0-data-preprocessed/GENIAcorpus3.02-preprocessed.json'\n",
    "\n",
    "with open(json_genia_path, \"r\") as j:\n",
    "  genia = json.loads(j.read())\n",
    "\n",
    "keyword_genia_path = '../0-data-preprocessed/GENIAcorpus3.02-keywords.tsv'\n",
    "\n",
    "with open(keyword_genia_path, \"r\") as c:\n",
    "  key_words = pd.read_csv(c, sep='\\t')\n",
    "important_words = key_words.lex.to_numpy()\n",
    "\n",
    "json_keybert_path = '../4-keybert/keybert-scores.json'\n",
    "\n",
    "with open(json_keybert_path, 'r') as k:\n",
    "  keybert_scores = json.loads(k.read())\n",
    "keybert = pd.DataFrame(keybert_scores)\n",
    "keybert.columns = ['term', 'keybert']\n",
    "\n",
    "terrier_path = '../0-data-raw/terrier-stopwords.txt'\n",
    "\n",
    "terrier_stopwords = np.loadtxt(terrier_path, dtype=str)\n",
    "\n",
    "myisam_path = '../0-data-raw/myisam-stopwords.txt'\n",
    "\n",
    "with open(myisam_path, 'r') as t:\n",
    "  myisam_txt = StringIO(t.read() + '  NA  NA')\n",
    "\n",
    "myisam_stopwords = np.loadtxt(myisam_txt, dtype=str)\n",
    "myisam_stopwords = np.reshape(myisam_stopwords, (545, ))\n",
    "nas = np.where(myisam_stopwords == 'NA')[0]\n",
    "myisam_stopwords = np.delete(myisam_stopwords, nas).tolist()"
   ]
  },
  {
   "cell_type": "markdown",
   "metadata": {
    "id": "FPsrW3ClAKBo"
   },
   "source": [
    "## Constructing Vocabulary"
   ]
  },
  {
   "cell_type": "markdown",
   "metadata": {
    "id": "40RG3VVFCrt_"
   },
   "source": [
    "This is the vocabulary input for the count vectorizer below."
   ]
  },
  {
   "cell_type": "code",
   "execution_count": 3,
   "metadata": {
    "id": "85_RgkS4mBP3"
   },
   "outputs": [],
   "source": [
    "pre_vocab = []\n",
    "for i in range(len(genia)):\n",
    "  pre_vocab.append(genia[i].split())\n",
    "\n",
    "vocab = []\n",
    "for i in range(len(pre_vocab)):\n",
    "  for j in range(len(pre_vocab[i])):\n",
    "    vocab.append(pre_vocab[i][j])\n",
    "\n",
    "vocab = list(set(vocab))"
   ]
  },
  {
   "cell_type": "markdown",
   "metadata": {
    "id": "yarJ97FZJtLL"
   },
   "source": [
    "## Vectorizing the GENIA collection"
   ]
  },
  {
   "cell_type": "code",
   "execution_count": 4,
   "metadata": {
    "id": "XH6V7PadbTLx"
   },
   "outputs": [],
   "source": [
    "# Custom function so the Count vectorizer won't ignore any words\n",
    "def analyzer_custom(doc):\n",
    "  return doc.split()"
   ]
  },
  {
   "cell_type": "code",
   "execution_count": 5,
   "metadata": {
    "id": "qXdBHbts5WmB"
   },
   "outputs": [],
   "source": [
    "counter = CountVectorizer(lowercase=False, vocabulary=vocab, analyzer=analyzer_custom)\n",
    "collection = counter.transform(genia)"
   ]
  },
  {
   "cell_type": "markdown",
   "metadata": {
    "id": "nPmziX_0A5Kz"
   },
   "source": [
    "### Important Text Analysis Variables"
   ]
  },
  {
   "cell_type": "code",
   "execution_count": 12,
   "metadata": {
    "id": "nXvOPY8CqJlp"
   },
   "outputs": [],
   "source": [
    "m = len(counter.get_feature_names_out())\n",
    "d = collection.shape[0]\n",
    "N_i = word_stats.get_Ni(collection)\n",
    "N_j = word_stats.get_Nj(collection)\n",
    "N = word_stats.get_N(N_j)\n",
    "B_ij = word_stats.get_Bij(collection)\n",
    "B_i = word_stats.get_Bi(B_ij)\n",
    "B_j = word_stats.get_Bj(B_ij)\n",
    "CF = word_stats.get_cf(N_i)\n",
    "DF = word_stats.get_df(B_i, d)\n",
    "nij_by_nj = word_stats.get_nij_by_nj(collection, N_j)\n",
    "thetas = np.array(range(1, max(N_i.A[0]) + 1))/N\n",
    "opt_thetas = word_stats.get_opt_thetas(N, m, d, N_i, N_j, B_i, thetas)\n",
    "#alpha_i = word_stats.get_alpha_i(collection, B_j, N_j)\n",
    "#mu_alpha_i = word_stats.get_mu_alpha_i(alpha_i, d)\n",
    "#sigma_alpha_i = word_stats.get_sigma_alpha_i(alpha_i, mu_alpha_i, d)"
   ]
  },
  {
   "cell_type": "code",
   "execution_count": null,
   "metadata": {
    "id": "gy-ByDmGijyd"
   },
   "outputs": [],
   "source": [
    "def eidf_icf_diff(theta, d, nj, bi_obs):\n",
    "  sum1 = np.power(1 - theta, nj, dtype = np.longdouble).sum()\n",
    "  sum2 = np.power(1 - theta, 2*nj, dtype = np.longdouble).sum()\n",
    "\n",
    "  EDF = 1 - (1/d)*sum1\n",
    "  EIDF = (sum1 - sum2)/((2*d**2)*(EDF**2)) - np.log(EDF)\n",
    "\n",
    "  return EIDF - np.log(d/bi_obs)\n"
   ]
  },
  {
   "cell_type": "code",
   "execution_count": null,
   "metadata": {
    "id": "Da5IYv5ZpEPa"
   },
   "outputs": [],
   "source": [
    "thetas = np.array(range(1, max(N_i.A[0]) + 1))/N\n",
    "opt_thetas = []\n",
    "for i in range(m):\n",
    "  result = scipy.optimize.brentq(f = lambda x: eidf_icf_diff(x, d, N_j.T.A[0], B_i.A[0][i]), a=min(thetas), b=max(thetas))\n",
    "  opt_thetas.append(result)\n",
    "\n",
    "opt_thetas = np.array(opt_thetas)"
   ]
  },
  {
   "cell_type": "code",
   "execution_count": null,
   "metadata": {
    "id": "vanVElpC4SQ8"
   },
   "outputs": [],
   "source": [
    "def get_B1(thetas, vector_cf, N):\n",
    "  expected_ICF = word_stats.get_eicf(thetas, N)\n",
    "  observed_ICF = word_stats.get_icf(vector_cf)\n",
    "  return expected_ICF - observed_ICF"
   ]
  },
  {
   "cell_type": "code",
   "execution_count": null,
   "metadata": {
    "id": "UnTzgBPS5Qzz"
   },
   "outputs": [],
   "source": [
    "B1 = get_B1(opt_thetas, CF, N)"
   ]
  },
  {
   "cell_type": "code",
   "execution_count": null,
   "metadata": {
    "colab": {
     "base_uri": "https://localhost:8080/"
    },
    "id": "hcviAaQFBEC6",
    "outputId": "3731ed64-7464-4cf5-8d14-6a1f544e28fb"
   },
   "outputs": [
    {
     "data": {
      "text/plain": [
       "array([ 1.79150853e+00,  1.09836135e+00, -2.72500228e-03, ...,\n",
       "        2.86051669e-01, -2.50942360e-04, -2.50942360e-04])"
      ]
     },
     "execution_count": 24,
     "metadata": {},
     "output_type": "execute_result"
    }
   ],
   "source": [
    "B1.A[0]"
   ]
  },
  {
   "cell_type": "markdown",
   "metadata": {
    "id": "Sjsyw1CNC4-P"
   },
   "source": [
    "### Important Bursty Heuristics/Measures"
   ]
  },
  {
   "cell_type": "code",
   "execution_count": 13,
   "metadata": {
    "id": "9KG6Z2kBsF5z"
   },
   "outputs": [],
   "source": [
    "church = word_stats.get_church(N_i, B_i)\n",
    "irvine = word_stats.get_irvine(nij_by_nj, B_i)\n",
    "dop = word_stats.get_dop(collection, N_i, N_j, N)\n",
    "chisqr = word_stats.get_chisq_score(collection)\n",
    "ricf = word_stats.get_ricf(opt_thetas, N, word_stats.get_icf(CF))"
   ]
  },
  {
   "cell_type": "markdown",
   "metadata": {
    "id": "q33c1rWwD72X"
   },
   "source": [
    "## Heuristics/Measures Comparison"
   ]
  },
  {
   "cell_type": "markdown",
   "metadata": {
    "id": "zX1-IBAVbCic"
   },
   "source": [
    "### Preliminary Dataframes"
   ]
  },
  {
   "cell_type": "code",
   "execution_count": 14,
   "metadata": {
    "id": "VNAvUhBoeIqN"
   },
   "outputs": [],
   "source": [
    "dta = {'term': counter.get_feature_names_out(), 'church': church.A[0], 'irvine': irvine.A[0], 'dop': dop.A[0], 'chisq_score': chisqr, 'RICF': ricf.A[0]}\n",
    "df = pd.DataFrame(data=dta)\n",
    "all_scores = df.merge(keybert,how='left', left_on='term', right_on='term')"
   ]
  },
  {
   "cell_type": "code",
   "execution_count": 15,
   "metadata": {
    "id": "Zm9bSz7yrnW2"
   },
   "outputs": [],
   "source": [
    "sorted_indices = []\n",
    "cols = all_scores.columns.values.tolist()\n",
    "for col in cols:\n",
    "  if col == 'term':\n",
    "    sorted_indices.append(np.array(all_scores['term']))\n",
    "  elif col == 'keybert':\n",
    "    a = np.array(all_scores[[col]])\n",
    "    sorted_indices.append(5000 - scipy.stats.rankdata(a, method='ordinal', nan_policy='omit'))\n",
    "  else:\n",
    "    a = np.array(all_scores[[col]])\n",
    "    sorted_indices.append(len(a) - scipy.stats.rankdata(a, method='ordinal', nan_policy='omit').astype(int))\n",
    "\n",
    "sorted_indices = np.array(sorted_indices)\n",
    "m_t_pair = zip(cols, sorted_indices)\n",
    "measures_indices = dict(m_t_pair)\n",
    "measures_indices_df = pd.DataFrame(measures_indices)\n",
    "\n",
    "for i in range(len(measures_indices_df['keybert'])):\n",
    "  if not np.isnan(measures_indices_df['keybert'][i]):\n",
    "    measures_indices_df['keybert'][i] = int(measures_indices_df['keybert'][i])"
   ]
  },
  {
   "cell_type": "code",
   "execution_count": 17,
   "metadata": {
    "colab": {
     "base_uri": "https://localhost:8080/"
    },
    "id": "ibFNWGnwEdiF",
    "outputId": "b8ebc4d7-75fd-4100-969d-a150ff895296"
   },
   "outputs": [
    {
     "name": "stderr",
     "output_type": "stream",
     "text": [
      "[nltk_data] Downloading package stopwords to /home/samuel/nltk_data...\n",
      "[nltk_data]   Package stopwords is already up-to-date!\n"
     ]
    }
   ],
   "source": [
    "nltk.download('stopwords')\n",
    "st_words = stopwords.words('english')\n",
    "all_stopwords = [st_words, terrier_stopwords, myisam_stopwords]\n",
    "lst_stopwords = []\n",
    "for i in range(len(all_stopwords)):\n",
    "  for j in range(len(all_stopwords[i])):\n",
    "    lst_stopwords.append(all_stopwords[i][j])\n",
    "\n",
    "lst_stopwords = set(lst_stopwords)\n",
    "vocab_st_words = list(set(vocab).intersection(set(lst_stopwords)))\n",
    "vocab_st_words_in = []\n",
    "for i in range(len(measures_indices_df['term'])):\n",
    "  if measures_indices_df['term'][i] in vocab_st_words:\n",
    "    vocab_st_words_in.append(i)\n",
    "\n",
    "vocab_st_words_in = np.array(vocab_st_words_in)\n",
    "\n",
    "table_of_stop_words = measures_indices_df[measures_indices_df['term'].isin(vocab_st_words)]"
   ]
  },
  {
   "cell_type": "markdown",
   "metadata": {
    "id": "0Xh2xKK_bJgf"
   },
   "source": [
    "### Statistical analysis of measures/heuristics"
   ]
  },
  {
   "cell_type": "code",
   "execution_count": 18,
   "metadata": {
    "colab": {
     "base_uri": "https://localhost:8080/",
     "height": 206
    },
    "id": "lZP6-BpmYO0o",
    "outputId": "b988e7ff-6590-4249-c4ea-fddfc017aa77"
   },
   "outputs": [
    {
     "data": {
      "text/html": [
       "<div>\n",
       "<style scoped>\n",
       "    .dataframe tbody tr th:only-of-type {\n",
       "        vertical-align: middle;\n",
       "    }\n",
       "\n",
       "    .dataframe tbody tr th {\n",
       "        vertical-align: top;\n",
       "    }\n",
       "\n",
       "    .dataframe thead th {\n",
       "        text-align: right;\n",
       "    }\n",
       "</style>\n",
       "<table border=\"1\" class=\"dataframe\">\n",
       "  <thead>\n",
       "    <tr style=\"text-align: right;\">\n",
       "      <th></th>\n",
       "      <th>0.00</th>\n",
       "      <th>0.25</th>\n",
       "      <th>0.50</th>\n",
       "      <th>0.75</th>\n",
       "      <th>1.00</th>\n",
       "    </tr>\n",
       "  </thead>\n",
       "  <tbody>\n",
       "    <tr>\n",
       "      <th>church</th>\n",
       "      <td>18.0</td>\n",
       "      <td>7750.0</td>\n",
       "      <td>8754.0</td>\n",
       "      <td>23953.0</td>\n",
       "      <td>40680.0</td>\n",
       "    </tr>\n",
       "    <tr>\n",
       "      <th>irvine</th>\n",
       "      <td>69.0</td>\n",
       "      <td>11310.0</td>\n",
       "      <td>16852.0</td>\n",
       "      <td>22434.0</td>\n",
       "      <td>40504.0</td>\n",
       "    </tr>\n",
       "    <tr>\n",
       "      <th>dop</th>\n",
       "      <td>0.0</td>\n",
       "      <td>253.0</td>\n",
       "      <td>1111.0</td>\n",
       "      <td>3719.0</td>\n",
       "      <td>40487.0</td>\n",
       "    </tr>\n",
       "    <tr>\n",
       "      <th>chisq_score</th>\n",
       "      <td>1.0</td>\n",
       "      <td>1671.0</td>\n",
       "      <td>32007.0</td>\n",
       "      <td>32781.0</td>\n",
       "      <td>40323.0</td>\n",
       "    </tr>\n",
       "    <tr>\n",
       "      <th>RICF</th>\n",
       "      <td>2093.0</td>\n",
       "      <td>8122.0</td>\n",
       "      <td>8810.0</td>\n",
       "      <td>39418.0</td>\n",
       "      <td>40802.0</td>\n",
       "    </tr>\n",
       "  </tbody>\n",
       "</table>\n",
       "</div>"
      ],
      "text/plain": [
       "               0.00     0.25     0.50     0.75     1.00\n",
       "church         18.0   7750.0   8754.0  23953.0  40680.0\n",
       "irvine         69.0  11310.0  16852.0  22434.0  40504.0\n",
       "dop             0.0    253.0   1111.0   3719.0  40487.0\n",
       "chisq_score     1.0   1671.0  32007.0  32781.0  40323.0\n",
       "RICF         2093.0   8122.0   8810.0  39418.0  40802.0"
      ]
     },
     "metadata": {},
     "output_type": "display_data"
    }
   ],
   "source": [
    "# Each measure has a unique ranking for a word in the corpus. The smaller the ranking\n",
    "# the higher the burstiness. These are the quartiles of the rankings for all measures.\n",
    "\n",
    "quantiles = []\n",
    "for col in cols:\n",
    "  if col == 'term' or col == 'keybert': continue\n",
    "  quantiles.append(table_of_stop_words[col].quantile([0, 0.25, 0.5, 0.75, 1]))\n",
    "\n",
    "quantiles_df = pd.DataFrame(quantiles)\n",
    "display(quantiles_df)"
   ]
  },
  {
   "cell_type": "code",
   "execution_count": 41,
   "metadata": {
    "id": "HAzT-nUv8luu"
   },
   "outputs": [],
   "source": [
    "# This cell writes the previous pandas dataframe as a csv, uncomment to rewrite\n",
    "#quantiles_df.to_csv('../2-main-results/measures_quartiles.csv')"
   ]
  },
  {
   "cell_type": "code",
   "execution_count": 20,
   "metadata": {
    "id": "6vU24_4n4Mh9"
   },
   "outputs": [],
   "source": [
    "sorted_terms = []\n",
    "measures = cols[1:]\n",
    "for measure in measures:\n",
    "  sorted_terms.append(np.array(all_scores[['term', measure]].sort_values(measure, ascending=False)['term']))\n",
    "\n",
    "sorted_terms = np.array(sorted_terms)\n",
    "measure_term_pair = zip(measures, sorted_terms)\n",
    "sorted_measures = dict(measure_term_pair)"
   ]
  },
  {
   "cell_type": "code",
   "execution_count": 21,
   "metadata": {
    "id": "uMRN0rh77pAX"
   },
   "outputs": [],
   "source": [
    "def top_k(dct, k):\n",
    "  keys = dct.keys()\n",
    "  values = []\n",
    "  for key in keys:\n",
    "    values.append(dct[key][:k])\n",
    "  keys_values_pair = zip(keys, values)\n",
    "  return dict(keys_values_pair)"
   ]
  },
  {
   "cell_type": "code",
   "execution_count": 22,
   "metadata": {
    "colab": {
     "base_uri": "https://localhost:8080/",
     "height": 363
    },
    "id": "gJjA9fovQlFH",
    "outputId": "b07d35b0-8227-4c8a-8370-3720b6aebd23"
   },
   "outputs": [
    {
     "data": {
      "text/html": [
       "<div>\n",
       "<style scoped>\n",
       "    .dataframe tbody tr th:only-of-type {\n",
       "        vertical-align: middle;\n",
       "    }\n",
       "\n",
       "    .dataframe tbody tr th {\n",
       "        vertical-align: top;\n",
       "    }\n",
       "\n",
       "    .dataframe thead th {\n",
       "        text-align: right;\n",
       "    }\n",
       "</style>\n",
       "<table border=\"1\" class=\"dataframe\">\n",
       "  <thead>\n",
       "    <tr style=\"text-align: right;\">\n",
       "      <th></th>\n",
       "      <th>church</th>\n",
       "      <th>irvine</th>\n",
       "      <th>dop</th>\n",
       "      <th>chisq_score</th>\n",
       "      <th>RICF</th>\n",
       "      <th>keybert</th>\n",
       "    </tr>\n",
       "  </thead>\n",
       "  <tbody>\n",
       "    <tr>\n",
       "      <th>0</th>\n",
       "      <td>Bcl-6_lex</td>\n",
       "      <td>Bcl-6_lex</td>\n",
       "      <td>of</td>\n",
       "      <td>suggest</td>\n",
       "      <td>Bcl-6_lex</td>\n",
       "      <td>interleukin2</td>\n",
       "    </tr>\n",
       "    <tr>\n",
       "      <th>1</th>\n",
       "      <td>v-erbA_lex</td>\n",
       "      <td>TCRzeta_lex</td>\n",
       "      <td>the</td>\n",
       "      <td>here</td>\n",
       "      <td>v-erbA_lex</td>\n",
       "      <td>interleukin2independent</td>\n",
       "    </tr>\n",
       "    <tr>\n",
       "      <th>2</th>\n",
       "      <td>SMX_lex</td>\n",
       "      <td>ML-9_lex</td>\n",
       "      <td>in</td>\n",
       "      <td>indicate</td>\n",
       "      <td>SMX_lex</td>\n",
       "      <td>interleukin</td>\n",
       "    </tr>\n",
       "    <tr>\n",
       "      <th>3</th>\n",
       "      <td>ML-9_lex</td>\n",
       "      <td>AITL_lex</td>\n",
       "      <td>and</td>\n",
       "      <td>results</td>\n",
       "      <td>SHP1_lex</td>\n",
       "      <td>cytokinestimulated</td>\n",
       "    </tr>\n",
       "    <tr>\n",
       "      <th>4</th>\n",
       "      <td>SHP1_lex</td>\n",
       "      <td>SHP1_lex</td>\n",
       "      <td>to</td>\n",
       "      <td>however</td>\n",
       "      <td>ML-9_lex</td>\n",
       "      <td>cytokines</td>\n",
       "    </tr>\n",
       "    <tr>\n",
       "      <th>5</th>\n",
       "      <td>beta-casein_lex</td>\n",
       "      <td>beta-casein_lex</td>\n",
       "      <td>a</td>\n",
       "      <td>study</td>\n",
       "      <td>beta-casein_lex</td>\n",
       "      <td>kinases</td>\n",
       "    </tr>\n",
       "    <tr>\n",
       "      <th>6</th>\n",
       "      <td>EBNA-2_lex</td>\n",
       "      <td>A-myb_lex</td>\n",
       "      <td>that</td>\n",
       "      <td>previous</td>\n",
       "      <td>p95vav_lex</td>\n",
       "      <td>interleukin4</td>\n",
       "    </tr>\n",
       "    <tr>\n",
       "      <th>7</th>\n",
       "      <td>I_kappaB_lex</td>\n",
       "      <td>I_kappaB_lex</td>\n",
       "      <td>by</td>\n",
       "      <td>recent</td>\n",
       "      <td>DM_lex</td>\n",
       "      <td>kinase</td>\n",
       "    </tr>\n",
       "    <tr>\n",
       "      <th>8</th>\n",
       "      <td>DM_lex</td>\n",
       "      <td>SMX_lex</td>\n",
       "      <td>with</td>\n",
       "      <td>investigate</td>\n",
       "      <td>TCRzeta_lex</td>\n",
       "      <td>cytokine</td>\n",
       "    </tr>\n",
       "    <tr>\n",
       "      <th>9</th>\n",
       "      <td>TCRzeta_lex</td>\n",
       "      <td>Rap1_protein_lex</td>\n",
       "      <td>we</td>\n",
       "      <td>thus</td>\n",
       "      <td>I_kappaB_lex</td>\n",
       "      <td>interleukin1</td>\n",
       "    </tr>\n",
       "  </tbody>\n",
       "</table>\n",
       "</div>"
      ],
      "text/plain": [
       "            church            irvine   dop  chisq_score             RICF  \\\n",
       "0        Bcl-6_lex         Bcl-6_lex    of      suggest        Bcl-6_lex   \n",
       "1       v-erbA_lex       TCRzeta_lex   the         here       v-erbA_lex   \n",
       "2          SMX_lex          ML-9_lex    in     indicate          SMX_lex   \n",
       "3         ML-9_lex          AITL_lex   and      results         SHP1_lex   \n",
       "4         SHP1_lex          SHP1_lex    to      however         ML-9_lex   \n",
       "5  beta-casein_lex   beta-casein_lex     a        study  beta-casein_lex   \n",
       "6       EBNA-2_lex         A-myb_lex  that     previous       p95vav_lex   \n",
       "7     I_kappaB_lex      I_kappaB_lex    by       recent           DM_lex   \n",
       "8           DM_lex           SMX_lex  with  investigate      TCRzeta_lex   \n",
       "9      TCRzeta_lex  Rap1_protein_lex    we         thus     I_kappaB_lex   \n",
       "\n",
       "                   keybert  \n",
       "0             interleukin2  \n",
       "1  interleukin2independent  \n",
       "2              interleukin  \n",
       "3       cytokinestimulated  \n",
       "4                cytokines  \n",
       "5                  kinases  \n",
       "6             interleukin4  \n",
       "7                   kinase  \n",
       "8                 cytokine  \n",
       "9             interleukin1  "
      ]
     },
     "execution_count": 22,
     "metadata": {},
     "output_type": "execute_result"
    }
   ],
   "source": [
    "# These are the top 10 most bursty words as ranked by each measure\n",
    "\n",
    "top_10_terms = pd.DataFrame(top_k(sorted_measures, 10))\n",
    "top_10_terms"
   ]
  },
  {
   "cell_type": "code",
   "execution_count": 42,
   "metadata": {
    "id": "JVEUkKL08vCp"
   },
   "outputs": [],
   "source": [
    "# This cell writes the previous pandas dataframe as a csv, uncomment to rewrite\n",
    "#top_10_terms.to_csv('../2-main-results/top_10_terms.csv')"
   ]
  },
  {
   "cell_type": "code",
   "execution_count": 24,
   "metadata": {
    "colab": {
     "base_uri": "https://localhost:8080/"
    },
    "id": "cZqyY2mFCJb4",
    "outputId": "7464d204-9db2-4166-91f6-47c3ce179b09"
   },
   "outputs": [
    {
     "name": "stdout",
     "output_type": "stream",
     "text": [
      "green words:  4051 blue words:  5574 light blue:  10155 yellow words:  1444 red words:  10560\n"
     ]
    }
   ],
   "source": [
    "green = ['G#cell_type', 'G#cell_component', 'G#cell_line',\n",
    "         'G#other_artificial_source']\n",
    "blue = ['G#nucleotide', 'G#polynucleotide', 'G#DNA_N/A',\n",
    "        'G#DNA_domain_or_region', 'G#DNA_family_or_group', 'G#DNA_molecule',\n",
    "        'G#DNA_substructure', 'G#RNA_N/A', 'G#RNA_domain_or_region',\n",
    "        'G#RNA_family_or_group', 'G#RNA_molecule', 'G#RNA_substructure']\n",
    "light_blue = ['G#amino_acid_monomer', 'G#peptide', 'G#protein_N/A',\n",
    "              'G#protein_complex', 'G#protein_domain_or_region',\n",
    "              'G#protein_family_or_group', 'G#protein_molecule',\n",
    "              'G#protein_substructure', 'G#protein_subunit',\n",
    "              'G#other_organic_compound', 'G#organic', 'G#inorganic', 'G#atom',\n",
    "              'G#carbohydrate', 'G#lipid']\n",
    "yellow = ['G#virus', 'G#mono_cell', 'G#multi_cell', 'G#body_part', 'G#tissue']\n",
    "red = ['G#other_name']\n",
    "\n",
    "sem = np.array(key_words['sem'])\n",
    "lex = np.array(key_words['lex'])\n",
    "lex_sem_dct = dict(zip(lex, sem))\n",
    "\n",
    "def get_color_words(lst_color):\n",
    "  words = []\n",
    "  for k, v in lex_sem_dct.items():\n",
    "    if v in lst_color:\n",
    "      words.append(k)\n",
    "  return words\n",
    "\n",
    "green_words = get_color_words(green)\n",
    "blue_words = get_color_words(blue)\n",
    "light_blue_words = get_color_words(light_blue)\n",
    "yellow_words = get_color_words(yellow)\n",
    "red_words = get_color_words(red)\n",
    "\n",
    "print('green words: ', len(green_words), 'blue words: ', len(blue_words),\n",
    "      'light blue: ', len(light_blue_words), 'yellow words: ', len(yellow_words),\n",
    "      'red words: ', len(red_words))"
   ]
  },
  {
   "cell_type": "code",
   "execution_count": 25,
   "metadata": {
    "id": "EKqUt7r6IGNG"
   },
   "outputs": [],
   "source": [
    "def count_words(lst, imp_words):\n",
    "  counter = 0\n",
    "  for x in lst:\n",
    "    if x in imp_words:\n",
    "      counter += 1\n",
    "  return counter\n",
    "\n",
    "def create_p_k(lst_words):\n",
    "  measures = sorted_measures.keys()\n",
    "  counts = [[], [], [], [], [], [], [], [], [], []]\n",
    "  p_k_dct = dict(zip(measures, counts))\n",
    "  for measure in p_k_dct.keys():\n",
    "    for value in at_values:\n",
    "      p_k_dct[measure].append(count_words(top_k(sorted_measures, value)[measure], lst_words)/value)\n",
    "  result = pd.DataFrame(p_k_dct)\n",
    "  result.index = at_values\n",
    "  return result"
   ]
  },
  {
   "cell_type": "code",
   "execution_count": 26,
   "metadata": {
    "colab": {
     "base_uri": "https://localhost:8080/",
     "height": 1000
    },
    "id": "dOhriX-rGNJR",
    "outputId": "93b61cb1-1b65-403d-a17f-dff7d9a1f622"
   },
   "outputs": [
    {
     "name": "stdout",
     "output_type": "stream",
     "text": [
      "green_words\n"
     ]
    },
    {
     "data": {
      "text/html": [
       "<div>\n",
       "<style scoped>\n",
       "    .dataframe tbody tr th:only-of-type {\n",
       "        vertical-align: middle;\n",
       "    }\n",
       "\n",
       "    .dataframe tbody tr th {\n",
       "        vertical-align: top;\n",
       "    }\n",
       "\n",
       "    .dataframe thead th {\n",
       "        text-align: right;\n",
       "    }\n",
       "</style>\n",
       "<table border=\"1\" class=\"dataframe\">\n",
       "  <thead>\n",
       "    <tr style=\"text-align: right;\">\n",
       "      <th></th>\n",
       "      <th>church</th>\n",
       "      <th>irvine</th>\n",
       "      <th>dop</th>\n",
       "      <th>chisq_score</th>\n",
       "      <th>RICF</th>\n",
       "      <th>keybert</th>\n",
       "    </tr>\n",
       "  </thead>\n",
       "  <tbody>\n",
       "    <tr>\n",
       "      <th>10</th>\n",
       "      <td>0.000</td>\n",
       "      <td>0.000</td>\n",
       "      <td>0.0000</td>\n",
       "      <td>0.0000</td>\n",
       "      <td>0.0000</td>\n",
       "      <td>0.0000</td>\n",
       "    </tr>\n",
       "    <tr>\n",
       "      <th>50</th>\n",
       "      <td>0.000</td>\n",
       "      <td>0.000</td>\n",
       "      <td>0.0000</td>\n",
       "      <td>0.0000</td>\n",
       "      <td>0.0000</td>\n",
       "      <td>0.0200</td>\n",
       "    </tr>\n",
       "    <tr>\n",
       "      <th>100</th>\n",
       "      <td>0.010</td>\n",
       "      <td>0.020</td>\n",
       "      <td>0.0100</td>\n",
       "      <td>0.0000</td>\n",
       "      <td>0.0100</td>\n",
       "      <td>0.0800</td>\n",
       "    </tr>\n",
       "    <tr>\n",
       "      <th>500</th>\n",
       "      <td>0.040</td>\n",
       "      <td>0.060</td>\n",
       "      <td>0.0200</td>\n",
       "      <td>0.0120</td>\n",
       "      <td>0.0440</td>\n",
       "      <td>0.0940</td>\n",
       "    </tr>\n",
       "    <tr>\n",
       "      <th>1000</th>\n",
       "      <td>0.056</td>\n",
       "      <td>0.068</td>\n",
       "      <td>0.0260</td>\n",
       "      <td>0.0230</td>\n",
       "      <td>0.0620</td>\n",
       "      <td>0.0950</td>\n",
       "    </tr>\n",
       "    <tr>\n",
       "      <th>5000</th>\n",
       "      <td>0.099</td>\n",
       "      <td>0.099</td>\n",
       "      <td>0.0514</td>\n",
       "      <td>0.0628</td>\n",
       "      <td>0.1006</td>\n",
       "      <td>0.0922</td>\n",
       "    </tr>\n",
       "  </tbody>\n",
       "</table>\n",
       "</div>"
      ],
      "text/plain": [
       "      church  irvine     dop  chisq_score    RICF  keybert\n",
       "10     0.000   0.000  0.0000       0.0000  0.0000   0.0000\n",
       "50     0.000   0.000  0.0000       0.0000  0.0000   0.0200\n",
       "100    0.010   0.020  0.0100       0.0000  0.0100   0.0800\n",
       "500    0.040   0.060  0.0200       0.0120  0.0440   0.0940\n",
       "1000   0.056   0.068  0.0260       0.0230  0.0620   0.0950\n",
       "5000   0.099   0.099  0.0514       0.0628  0.1006   0.0922"
      ]
     },
     "metadata": {},
     "output_type": "display_data"
    },
    {
     "name": "stdout",
     "output_type": "stream",
     "text": [
      "blue_words\n"
     ]
    },
    {
     "data": {
      "text/html": [
       "<div>\n",
       "<style scoped>\n",
       "    .dataframe tbody tr th:only-of-type {\n",
       "        vertical-align: middle;\n",
       "    }\n",
       "\n",
       "    .dataframe tbody tr th {\n",
       "        vertical-align: top;\n",
       "    }\n",
       "\n",
       "    .dataframe thead th {\n",
       "        text-align: right;\n",
       "    }\n",
       "</style>\n",
       "<table border=\"1\" class=\"dataframe\">\n",
       "  <thead>\n",
       "    <tr style=\"text-align: right;\">\n",
       "      <th></th>\n",
       "      <th>church</th>\n",
       "      <th>irvine</th>\n",
       "      <th>dop</th>\n",
       "      <th>chisq_score</th>\n",
       "      <th>RICF</th>\n",
       "      <th>keybert</th>\n",
       "    </tr>\n",
       "  </thead>\n",
       "  <tbody>\n",
       "    <tr>\n",
       "      <th>10</th>\n",
       "      <td>0.0000</td>\n",
       "      <td>0.1000</td>\n",
       "      <td>0.0000</td>\n",
       "      <td>0.0000</td>\n",
       "      <td>0.0000</td>\n",
       "      <td>0.0000</td>\n",
       "    </tr>\n",
       "    <tr>\n",
       "      <th>50</th>\n",
       "      <td>0.1000</td>\n",
       "      <td>0.1200</td>\n",
       "      <td>0.0000</td>\n",
       "      <td>0.0000</td>\n",
       "      <td>0.1000</td>\n",
       "      <td>0.0400</td>\n",
       "    </tr>\n",
       "    <tr>\n",
       "      <th>100</th>\n",
       "      <td>0.1000</td>\n",
       "      <td>0.1000</td>\n",
       "      <td>0.0000</td>\n",
       "      <td>0.0000</td>\n",
       "      <td>0.1100</td>\n",
       "      <td>0.1000</td>\n",
       "    </tr>\n",
       "    <tr>\n",
       "      <th>500</th>\n",
       "      <td>0.1400</td>\n",
       "      <td>0.1460</td>\n",
       "      <td>0.0040</td>\n",
       "      <td>0.0120</td>\n",
       "      <td>0.1420</td>\n",
       "      <td>0.1060</td>\n",
       "    </tr>\n",
       "    <tr>\n",
       "      <th>1000</th>\n",
       "      <td>0.1340</td>\n",
       "      <td>0.1400</td>\n",
       "      <td>0.0140</td>\n",
       "      <td>0.0210</td>\n",
       "      <td>0.1410</td>\n",
       "      <td>0.1210</td>\n",
       "    </tr>\n",
       "    <tr>\n",
       "      <th>5000</th>\n",
       "      <td>0.1544</td>\n",
       "      <td>0.1482</td>\n",
       "      <td>0.0502</td>\n",
       "      <td>0.0746</td>\n",
       "      <td>0.1562</td>\n",
       "      <td>0.1388</td>\n",
       "    </tr>\n",
       "  </tbody>\n",
       "</table>\n",
       "</div>"
      ],
      "text/plain": [
       "      church  irvine     dop  chisq_score    RICF  keybert\n",
       "10    0.0000  0.1000  0.0000       0.0000  0.0000   0.0000\n",
       "50    0.1000  0.1200  0.0000       0.0000  0.1000   0.0400\n",
       "100   0.1000  0.1000  0.0000       0.0000  0.1100   0.1000\n",
       "500   0.1400  0.1460  0.0040       0.0120  0.1420   0.1060\n",
       "1000  0.1340  0.1400  0.0140       0.0210  0.1410   0.1210\n",
       "5000  0.1544  0.1482  0.0502       0.0746  0.1562   0.1388"
      ]
     },
     "metadata": {},
     "output_type": "display_data"
    },
    {
     "name": "stdout",
     "output_type": "stream",
     "text": [
      "light_blue_words\n"
     ]
    },
    {
     "data": {
      "text/html": [
       "<div>\n",
       "<style scoped>\n",
       "    .dataframe tbody tr th:only-of-type {\n",
       "        vertical-align: middle;\n",
       "    }\n",
       "\n",
       "    .dataframe tbody tr th {\n",
       "        vertical-align: top;\n",
       "    }\n",
       "\n",
       "    .dataframe thead th {\n",
       "        text-align: right;\n",
       "    }\n",
       "</style>\n",
       "<table border=\"1\" class=\"dataframe\">\n",
       "  <thead>\n",
       "    <tr style=\"text-align: right;\">\n",
       "      <th></th>\n",
       "      <th>church</th>\n",
       "      <th>irvine</th>\n",
       "      <th>dop</th>\n",
       "      <th>chisq_score</th>\n",
       "      <th>RICF</th>\n",
       "      <th>keybert</th>\n",
       "    </tr>\n",
       "  </thead>\n",
       "  <tbody>\n",
       "    <tr>\n",
       "      <th>10</th>\n",
       "      <td>1.0000</td>\n",
       "      <td>0.8000</td>\n",
       "      <td>0.000</td>\n",
       "      <td>0.0000</td>\n",
       "      <td>1.0000</td>\n",
       "      <td>0.0000</td>\n",
       "    </tr>\n",
       "    <tr>\n",
       "      <th>50</th>\n",
       "      <td>0.7600</td>\n",
       "      <td>0.7000</td>\n",
       "      <td>0.020</td>\n",
       "      <td>0.0200</td>\n",
       "      <td>0.8000</td>\n",
       "      <td>0.0600</td>\n",
       "    </tr>\n",
       "    <tr>\n",
       "      <th>100</th>\n",
       "      <td>0.8200</td>\n",
       "      <td>0.7400</td>\n",
       "      <td>0.010</td>\n",
       "      <td>0.0100</td>\n",
       "      <td>0.8300</td>\n",
       "      <td>0.1500</td>\n",
       "    </tr>\n",
       "    <tr>\n",
       "      <th>500</th>\n",
       "      <td>0.6840</td>\n",
       "      <td>0.6220</td>\n",
       "      <td>0.048</td>\n",
       "      <td>0.0220</td>\n",
       "      <td>0.6920</td>\n",
       "      <td>0.2520</td>\n",
       "    </tr>\n",
       "    <tr>\n",
       "      <th>1000</th>\n",
       "      <td>0.6440</td>\n",
       "      <td>0.5890</td>\n",
       "      <td>0.070</td>\n",
       "      <td>0.0410</td>\n",
       "      <td>0.6410</td>\n",
       "      <td>0.2330</td>\n",
       "    </tr>\n",
       "    <tr>\n",
       "      <th>5000</th>\n",
       "      <td>0.4308</td>\n",
       "      <td>0.4108</td>\n",
       "      <td>0.163</td>\n",
       "      <td>0.1392</td>\n",
       "      <td>0.4292</td>\n",
       "      <td>0.2466</td>\n",
       "    </tr>\n",
       "  </tbody>\n",
       "</table>\n",
       "</div>"
      ],
      "text/plain": [
       "      church  irvine    dop  chisq_score    RICF  keybert\n",
       "10    1.0000  0.8000  0.000       0.0000  1.0000   0.0000\n",
       "50    0.7600  0.7000  0.020       0.0200  0.8000   0.0600\n",
       "100   0.8200  0.7400  0.010       0.0100  0.8300   0.1500\n",
       "500   0.6840  0.6220  0.048       0.0220  0.6920   0.2520\n",
       "1000  0.6440  0.5890  0.070       0.0410  0.6410   0.2330\n",
       "5000  0.4308  0.4108  0.163       0.1392  0.4292   0.2466"
      ]
     },
     "metadata": {},
     "output_type": "display_data"
    },
    {
     "name": "stdout",
     "output_type": "stream",
     "text": [
      "yellow_words\n"
     ]
    },
    {
     "data": {
      "text/html": [
       "<div>\n",
       "<style scoped>\n",
       "    .dataframe tbody tr th:only-of-type {\n",
       "        vertical-align: middle;\n",
       "    }\n",
       "\n",
       "    .dataframe tbody tr th {\n",
       "        vertical-align: top;\n",
       "    }\n",
       "\n",
       "    .dataframe thead th {\n",
       "        text-align: right;\n",
       "    }\n",
       "</style>\n",
       "<table border=\"1\" class=\"dataframe\">\n",
       "  <thead>\n",
       "    <tr style=\"text-align: right;\">\n",
       "      <th></th>\n",
       "      <th>church</th>\n",
       "      <th>irvine</th>\n",
       "      <th>dop</th>\n",
       "      <th>chisq_score</th>\n",
       "      <th>RICF</th>\n",
       "      <th>keybert</th>\n",
       "    </tr>\n",
       "  </thead>\n",
       "  <tbody>\n",
       "    <tr>\n",
       "      <th>10</th>\n",
       "      <td>0.0000</td>\n",
       "      <td>0.0000</td>\n",
       "      <td>0.0000</td>\n",
       "      <td>0.0000</td>\n",
       "      <td>0.0000</td>\n",
       "      <td>0.0000</td>\n",
       "    </tr>\n",
       "    <tr>\n",
       "      <th>50</th>\n",
       "      <td>0.0400</td>\n",
       "      <td>0.0400</td>\n",
       "      <td>0.0000</td>\n",
       "      <td>0.0000</td>\n",
       "      <td>0.0400</td>\n",
       "      <td>0.0000</td>\n",
       "    </tr>\n",
       "    <tr>\n",
       "      <th>100</th>\n",
       "      <td>0.0200</td>\n",
       "      <td>0.0200</td>\n",
       "      <td>0.0000</td>\n",
       "      <td>0.0000</td>\n",
       "      <td>0.0200</td>\n",
       "      <td>0.0400</td>\n",
       "    </tr>\n",
       "    <tr>\n",
       "      <th>500</th>\n",
       "      <td>0.0320</td>\n",
       "      <td>0.0320</td>\n",
       "      <td>0.0060</td>\n",
       "      <td>0.0020</td>\n",
       "      <td>0.0320</td>\n",
       "      <td>0.0340</td>\n",
       "    </tr>\n",
       "    <tr>\n",
       "      <th>1000</th>\n",
       "      <td>0.0360</td>\n",
       "      <td>0.0430</td>\n",
       "      <td>0.0110</td>\n",
       "      <td>0.0060</td>\n",
       "      <td>0.0350</td>\n",
       "      <td>0.0430</td>\n",
       "    </tr>\n",
       "    <tr>\n",
       "      <th>5000</th>\n",
       "      <td>0.0438</td>\n",
       "      <td>0.0412</td>\n",
       "      <td>0.0202</td>\n",
       "      <td>0.0268</td>\n",
       "      <td>0.0442</td>\n",
       "      <td>0.0366</td>\n",
       "    </tr>\n",
       "  </tbody>\n",
       "</table>\n",
       "</div>"
      ],
      "text/plain": [
       "      church  irvine     dop  chisq_score    RICF  keybert\n",
       "10    0.0000  0.0000  0.0000       0.0000  0.0000   0.0000\n",
       "50    0.0400  0.0400  0.0000       0.0000  0.0400   0.0000\n",
       "100   0.0200  0.0200  0.0000       0.0000  0.0200   0.0400\n",
       "500   0.0320  0.0320  0.0060       0.0020  0.0320   0.0340\n",
       "1000  0.0360  0.0430  0.0110       0.0060  0.0350   0.0430\n",
       "5000  0.0438  0.0412  0.0202       0.0268  0.0442   0.0366"
      ]
     },
     "metadata": {},
     "output_type": "display_data"
    },
    {
     "name": "stdout",
     "output_type": "stream",
     "text": [
      "important_words\n"
     ]
    },
    {
     "data": {
      "text/html": [
       "<div>\n",
       "<style scoped>\n",
       "    .dataframe tbody tr th:only-of-type {\n",
       "        vertical-align: middle;\n",
       "    }\n",
       "\n",
       "    .dataframe tbody tr th {\n",
       "        vertical-align: top;\n",
       "    }\n",
       "\n",
       "    .dataframe thead th {\n",
       "        text-align: right;\n",
       "    }\n",
       "</style>\n",
       "<table border=\"1\" class=\"dataframe\">\n",
       "  <thead>\n",
       "    <tr style=\"text-align: right;\">\n",
       "      <th></th>\n",
       "      <th>church</th>\n",
       "      <th>irvine</th>\n",
       "      <th>dop</th>\n",
       "      <th>chisq_score</th>\n",
       "      <th>RICF</th>\n",
       "      <th>keybert</th>\n",
       "    </tr>\n",
       "  </thead>\n",
       "  <tbody>\n",
       "    <tr>\n",
       "      <th>10</th>\n",
       "      <td>1.000</td>\n",
       "      <td>1.0000</td>\n",
       "      <td>0.0000</td>\n",
       "      <td>0.000</td>\n",
       "      <td>1.0000</td>\n",
       "      <td>0.0000</td>\n",
       "    </tr>\n",
       "    <tr>\n",
       "      <th>50</th>\n",
       "      <td>0.960</td>\n",
       "      <td>1.0000</td>\n",
       "      <td>0.0200</td>\n",
       "      <td>0.040</td>\n",
       "      <td>1.0000</td>\n",
       "      <td>0.2000</td>\n",
       "    </tr>\n",
       "    <tr>\n",
       "      <th>100</th>\n",
       "      <td>0.980</td>\n",
       "      <td>0.9800</td>\n",
       "      <td>0.0200</td>\n",
       "      <td>0.030</td>\n",
       "      <td>1.0000</td>\n",
       "      <td>0.5100</td>\n",
       "    </tr>\n",
       "    <tr>\n",
       "      <th>500</th>\n",
       "      <td>0.984</td>\n",
       "      <td>0.9740</td>\n",
       "      <td>0.0880</td>\n",
       "      <td>0.082</td>\n",
       "      <td>0.9920</td>\n",
       "      <td>0.7460</td>\n",
       "    </tr>\n",
       "    <tr>\n",
       "      <th>1000</th>\n",
       "      <td>0.978</td>\n",
       "      <td>0.9630</td>\n",
       "      <td>0.1420</td>\n",
       "      <td>0.162</td>\n",
       "      <td>0.9870</td>\n",
       "      <td>0.7580</td>\n",
       "    </tr>\n",
       "    <tr>\n",
       "      <th>5000</th>\n",
       "      <td>0.928</td>\n",
       "      <td>0.8972</td>\n",
       "      <td>0.3754</td>\n",
       "      <td>0.480</td>\n",
       "      <td>0.9306</td>\n",
       "      <td>0.7742</td>\n",
       "    </tr>\n",
       "  </tbody>\n",
       "</table>\n",
       "</div>"
      ],
      "text/plain": [
       "      church  irvine     dop  chisq_score    RICF  keybert\n",
       "10     1.000  1.0000  0.0000        0.000  1.0000   0.0000\n",
       "50     0.960  1.0000  0.0200        0.040  1.0000   0.2000\n",
       "100    0.980  0.9800  0.0200        0.030  1.0000   0.5100\n",
       "500    0.984  0.9740  0.0880        0.082  0.9920   0.7460\n",
       "1000   0.978  0.9630  0.1420        0.162  0.9870   0.7580\n",
       "5000   0.928  0.8972  0.3754        0.480  0.9306   0.7742"
      ]
     },
     "metadata": {},
     "output_type": "display_data"
    },
    {
     "name": "stdout",
     "output_type": "stream",
     "text": [
      "red_words\n"
     ]
    },
    {
     "data": {
      "text/html": [
       "<div>\n",
       "<style scoped>\n",
       "    .dataframe tbody tr th:only-of-type {\n",
       "        vertical-align: middle;\n",
       "    }\n",
       "\n",
       "    .dataframe tbody tr th {\n",
       "        vertical-align: top;\n",
       "    }\n",
       "\n",
       "    .dataframe thead th {\n",
       "        text-align: right;\n",
       "    }\n",
       "</style>\n",
       "<table border=\"1\" class=\"dataframe\">\n",
       "  <thead>\n",
       "    <tr style=\"text-align: right;\">\n",
       "      <th></th>\n",
       "      <th>church</th>\n",
       "      <th>irvine</th>\n",
       "      <th>dop</th>\n",
       "      <th>chisq_score</th>\n",
       "      <th>RICF</th>\n",
       "      <th>keybert</th>\n",
       "    </tr>\n",
       "  </thead>\n",
       "  <tbody>\n",
       "    <tr>\n",
       "      <th>10</th>\n",
       "      <td>0.000</td>\n",
       "      <td>0.100</td>\n",
       "      <td>0.0000</td>\n",
       "      <td>0.0000</td>\n",
       "      <td>0.0000</td>\n",
       "      <td>0.000</td>\n",
       "    </tr>\n",
       "    <tr>\n",
       "      <th>50</th>\n",
       "      <td>0.060</td>\n",
       "      <td>0.140</td>\n",
       "      <td>0.0000</td>\n",
       "      <td>0.0200</td>\n",
       "      <td>0.0600</td>\n",
       "      <td>0.080</td>\n",
       "    </tr>\n",
       "    <tr>\n",
       "      <th>100</th>\n",
       "      <td>0.030</td>\n",
       "      <td>0.100</td>\n",
       "      <td>0.0000</td>\n",
       "      <td>0.0200</td>\n",
       "      <td>0.0300</td>\n",
       "      <td>0.140</td>\n",
       "    </tr>\n",
       "    <tr>\n",
       "      <th>500</th>\n",
       "      <td>0.088</td>\n",
       "      <td>0.114</td>\n",
       "      <td>0.0100</td>\n",
       "      <td>0.0340</td>\n",
       "      <td>0.0820</td>\n",
       "      <td>0.260</td>\n",
       "    </tr>\n",
       "    <tr>\n",
       "      <th>1000</th>\n",
       "      <td>0.108</td>\n",
       "      <td>0.123</td>\n",
       "      <td>0.0210</td>\n",
       "      <td>0.0710</td>\n",
       "      <td>0.1080</td>\n",
       "      <td>0.266</td>\n",
       "    </tr>\n",
       "    <tr>\n",
       "      <th>5000</th>\n",
       "      <td>0.200</td>\n",
       "      <td>0.198</td>\n",
       "      <td>0.0906</td>\n",
       "      <td>0.1766</td>\n",
       "      <td>0.2004</td>\n",
       "      <td>0.260</td>\n",
       "    </tr>\n",
       "  </tbody>\n",
       "</table>\n",
       "</div>"
      ],
      "text/plain": [
       "      church  irvine     dop  chisq_score    RICF  keybert\n",
       "10     0.000   0.100  0.0000       0.0000  0.0000    0.000\n",
       "50     0.060   0.140  0.0000       0.0200  0.0600    0.080\n",
       "100    0.030   0.100  0.0000       0.0200  0.0300    0.140\n",
       "500    0.088   0.114  0.0100       0.0340  0.0820    0.260\n",
       "1000   0.108   0.123  0.0210       0.0710  0.1080    0.266\n",
       "5000   0.200   0.198  0.0906       0.1766  0.2004    0.260"
      ]
     },
     "metadata": {},
     "output_type": "display_data"
    }
   ],
   "source": [
    "# These are the p@k scores for the different categories of domain-specific words\n",
    "\n",
    "at_values = np.array([10, 50, 100, 500, 1000, 5000])\n",
    "highlights = {'green_words': green_words, 'blue_words': blue_words, 'light_blue_words': light_blue_words, 'yellow_words': yellow_words, 'important_words': important_words, 'red_words': red_words}\n",
    "dfs = []\n",
    "for k, v in highlights.items():\n",
    "  dfs.append(create_p_k(v))\n",
    "  print(k)\n",
    "  display(dfs[-1])"
   ]
  },
  {
   "cell_type": "code",
   "execution_count": 45,
   "metadata": {
    "id": "wK1mtYY2KyiK"
   },
   "outputs": [],
   "source": [
    "# This cell writes the p@k tables to a folder, uncomment to rewrite.\n",
    "\n",
    "#dfs[0].to_csv('../2-main-results/p@k/green_words.csv')\n",
    "#dfs[1].to_csv('../2-main-results/p@k/blue_words.csv')\n",
    "#dfs[2].to_csv('../2-main-results/p@k/light_blue_words.csv')\n",
    "#dfs[3].to_csv('../2-main-results/p@k/yellow_words.csv')\n",
    "#dfs[4].to_csv('../2-main-results/p@k/important_words.csv')\n",
    "#dfs[5].to_csv('../2-main-results/p@k/light_bule_words.csv')"
   ]
  },
  {
   "cell_type": "code",
   "execution_count": 33,
   "metadata": {
    "colab": {
     "base_uri": "https://localhost:8080/"
    },
    "id": "twRx-NtocoKQ",
    "outputId": "3230dd8a-655b-43f9-a7b5-b5600e04be90"
   },
   "outputs": [
    {
     "data": {
      "text/plain": [
       "{'green_words': 11626,\n",
       " 'blue_words': 11619,\n",
       " 'light_blue_words': 42478,\n",
       " 'yellow_words': 5247,\n",
       " 'all_important_words': 90969,\n",
       " 'red_words': 19999}"
      ]
     },
     "execution_count": 33,
     "metadata": {},
     "output_type": "execute_result"
    }
   ],
   "source": [
    "# Tbis cell counts how many words of each color there are in the corpus\n",
    "color_words = [green_words, blue_words, light_blue_words, yellow_words, important_words, red_words]\n",
    "color_words_counter = [0, 0, 0, 0, 0, 0]\n",
    "for i in range(len(color_words)):\n",
    "  for j in range(len(vocab)):\n",
    "    if vocab[j] in color_words[i]:\n",
    "      color_words_counter[i] += N_i.A[0][j]\n",
    "\n",
    "names_of_words = ['green_words', 'blue_words', 'light_blue_words', 'yellow_words', 'all_important_words', 'red_words']\n",
    "color_word_count_zip = zip(names_of_words, color_words_counter)\n",
    "counter_dict = dict(color_word_count_zip)\n",
    "counter_dict"
   ]
  },
  {
   "cell_type": "code",
   "execution_count": 35,
   "metadata": {
    "id": "WKlXZuFN84l-"
   },
   "outputs": [
    {
     "data": {
      "text/plain": [
       "{'green_words': 4051,\n",
       " 'blue_words': 5574,\n",
       " 'light_blue_words': 10155,\n",
       " 'yellow_words': 1444,\n",
       " 'all_important_words': 31784,\n",
       " 'red_words': 10560}"
      ]
     },
     "execution_count": 35,
     "metadata": {},
     "output_type": "execute_result"
    }
   ],
   "source": [
    "# This cell counts the number of unique words of each color in the corpus\n",
    "\n",
    "color_words_counter = [0, 0, 0, 0, 0, 0]\n",
    "for i in range(len(color_words)):\n",
    "  for j in range(len(vocab)):\n",
    "    if vocab[j] in color_words[i]:\n",
    "      color_words_counter[i] += 1\n",
    "\n",
    "unique_word_count_zip = zip(names_of_words, color_words_counter)\n",
    "unique_word_num_dict = dict(unique_word_count_zip)\n",
    "unique_word_num_dict"
   ]
  }
 ],
 "metadata": {
  "colab": {
   "collapsed_sections": [
    "91NU-MJcn4rq",
    "FPsrW3ClAKBo"
   ],
   "provenance": []
  },
  "kernelspec": {
   "display_name": "Python 3 (ipykernel)",
   "language": "python",
   "name": "python3"
  },
  "language_info": {
   "codemirror_mode": {
    "name": "ipython",
    "version": 3
   },
   "file_extension": ".py",
   "mimetype": "text/x-python",
   "name": "python",
   "nbconvert_exporter": "python",
   "pygments_lexer": "ipython3",
   "version": "3.10.12"
  }
 },
 "nbformat": 4,
 "nbformat_minor": 4
}
